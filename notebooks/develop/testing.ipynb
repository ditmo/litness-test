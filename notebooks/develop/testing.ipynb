{
 "cells": [
  {
   "cell_type": "code",
   "execution_count": 1,
   "metadata": {},
   "outputs": [],
   "source": [
    "import pandas as pd\n",
    "import numpy as np\n",
    "import pickle\n",
    "import logging\n",
    "import yaml\n",
    "import boto3\n",
    "from os import path\n",
    "import os\n",
    "import spotipy\n",
    "from spotipy.oauth2 import SpotifyClientCredentials\n",
    "from sqlalchemy.orm import sessionmaker\n",
    "import sqlalchemy"
   ]
  },
  {
   "cell_type": "code",
   "execution_count": 2,
   "metadata": {},
   "outputs": [],
   "source": [
    "train_data = pd.read_csv(\"/Users/briancai/Drive/NU/Q3/AVC/litness_test/2020-MSIA423-Cai-Litness-Test/data/spotify_2000_to_2020.csv\", index_col = 0)"
   ]
  },
  {
   "cell_type": "code",
   "execution_count": 3,
   "metadata": {},
   "outputs": [],
   "source": [
    "SPOTIFY_COLUMNS = train_data.columns.tolist()"
   ]
  },
  {
   "cell_type": "code",
   "execution_count": 4,
   "metadata": {},
   "outputs": [],
   "source": [
    "test_columns = ['artist',\n",
    " 'track',\n",
    " 'date',\n",
    " 'chart',\n",
    " 'spotify_query',\n",
    " 'danceability',\n",
    " 'energy',\n",
    " 'key']"
   ]
  },
  {
   "cell_type": "code",
   "execution_count": 5,
   "metadata": {},
   "outputs": [],
   "source": [
    "test_columns = train_data.columns.tolist()"
   ]
  },
  {
   "cell_type": "code",
   "execution_count": 6,
   "metadata": {},
   "outputs": [],
   "source": [
    "column_check = set(SPOTIFY_COLUMNS).issubset(set(test_columns))"
   ]
  },
  {
   "cell_type": "code",
   "execution_count": 7,
   "metadata": {},
   "outputs": [],
   "source": [
    "exp_cols = SPOTIFY_COLUMNS = ['chart','danceability','energy','key',\n",
    "                    'loudness','mode','speechiness','acousticness',\n",
    "                    'instrumentalness','liveness','valence','tempo','duration_ms']"
   ]
  },
  {
   "cell_type": "code",
   "execution_count": 8,
   "metadata": {},
   "outputs": [],
   "source": [
    "types = train_data[exp_cols].dtypes.tolist()"
   ]
  },
  {
   "cell_type": "code",
   "execution_count": 9,
   "metadata": {},
   "outputs": [
    {
     "data": {
      "text/html": [
       "<div>\n",
       "<style scoped>\n",
       "    .dataframe tbody tr th:only-of-type {\n",
       "        vertical-align: middle;\n",
       "    }\n",
       "\n",
       "    .dataframe tbody tr th {\n",
       "        vertical-align: top;\n",
       "    }\n",
       "\n",
       "    .dataframe thead th {\n",
       "        text-align: right;\n",
       "    }\n",
       "</style>\n",
       "<table border=\"1\" class=\"dataframe\">\n",
       "  <thead>\n",
       "    <tr style=\"text-align: right;\">\n",
       "      <th></th>\n",
       "      <th>artist</th>\n",
       "      <th>track</th>\n",
       "      <th>date</th>\n",
       "      <th>chart</th>\n",
       "      <th>spotify_query</th>\n",
       "      <th>danceability</th>\n",
       "      <th>energy</th>\n",
       "      <th>key</th>\n",
       "      <th>loudness</th>\n",
       "      <th>mode</th>\n",
       "      <th>...</th>\n",
       "      <th>liveness</th>\n",
       "      <th>valence</th>\n",
       "      <th>tempo</th>\n",
       "      <th>type</th>\n",
       "      <th>id</th>\n",
       "      <th>uri</th>\n",
       "      <th>track_href</th>\n",
       "      <th>analysis_url</th>\n",
       "      <th>duration_ms</th>\n",
       "      <th>time_signature</th>\n",
       "    </tr>\n",
       "  </thead>\n",
       "  <tbody>\n",
       "    <tr>\n",
       "      <th>0</th>\n",
       "      <td>NLE Choppa Featuring Roddy Ricch</td>\n",
       "      <td>Walk Em Down</td>\n",
       "      <td>2020-05-01</td>\n",
       "      <td>rap-song</td>\n",
       "      <td>NLE+Choppa+Walk+Em+Down</td>\n",
       "      <td>0.867</td>\n",
       "      <td>0.744</td>\n",
       "      <td>9</td>\n",
       "      <td>-5.171</td>\n",
       "      <td>0</td>\n",
       "      <td>...</td>\n",
       "      <td>0.0713</td>\n",
       "      <td>0.645</td>\n",
       "      <td>84.005</td>\n",
       "      <td>audio_features</td>\n",
       "      <td>4cSSL3YafYjM3yjgFO1vJg</td>\n",
       "      <td>spotify:track:4cSSL3YafYjM3yjgFO1vJg</td>\n",
       "      <td>https://api.spotify.com/v1/tracks/4cSSL3YafYjM...</td>\n",
       "      <td>https://api.spotify.com/v1/audio-analysis/4cSS...</td>\n",
       "      <td>173288</td>\n",
       "      <td>4</td>\n",
       "    </tr>\n",
       "    <tr>\n",
       "      <th>1</th>\n",
       "      <td>DaBaby</td>\n",
       "      <td>Find My Way</td>\n",
       "      <td>2020-05-01</td>\n",
       "      <td>rap-song</td>\n",
       "      <td>DaBaby+Find+My+Way</td>\n",
       "      <td>0.836</td>\n",
       "      <td>0.624</td>\n",
       "      <td>4</td>\n",
       "      <td>-6.750</td>\n",
       "      <td>0</td>\n",
       "      <td>...</td>\n",
       "      <td>0.1380</td>\n",
       "      <td>0.700</td>\n",
       "      <td>103.000</td>\n",
       "      <td>audio_features</td>\n",
       "      <td>1gVCEnryJhkdQcuC0Kbvor</td>\n",
       "      <td>spotify:track:1gVCEnryJhkdQcuC0Kbvor</td>\n",
       "      <td>https://api.spotify.com/v1/tracks/1gVCEnryJhkd...</td>\n",
       "      <td>https://api.spotify.com/v1/audio-analysis/1gVC...</td>\n",
       "      <td>139890</td>\n",
       "      <td>4</td>\n",
       "    </tr>\n",
       "    <tr>\n",
       "      <th>2</th>\n",
       "      <td>Drake</td>\n",
       "      <td>Toosie Slide</td>\n",
       "      <td>2020-05-01</td>\n",
       "      <td>rap-song</td>\n",
       "      <td>Drake+Toosie+Slide</td>\n",
       "      <td>0.834</td>\n",
       "      <td>0.454</td>\n",
       "      <td>1</td>\n",
       "      <td>-9.750</td>\n",
       "      <td>0</td>\n",
       "      <td>...</td>\n",
       "      <td>0.1140</td>\n",
       "      <td>0.837</td>\n",
       "      <td>81.618</td>\n",
       "      <td>audio_features</td>\n",
       "      <td>127QTOFJsJQp5LbJbu3A1y</td>\n",
       "      <td>spotify:track:127QTOFJsJQp5LbJbu3A1y</td>\n",
       "      <td>https://api.spotify.com/v1/tracks/127QTOFJsJQp...</td>\n",
       "      <td>https://api.spotify.com/v1/audio-analysis/127Q...</td>\n",
       "      <td>247059</td>\n",
       "      <td>4</td>\n",
       "    </tr>\n",
       "    <tr>\n",
       "      <th>3</th>\n",
       "      <td>Roddy Ricch</td>\n",
       "      <td>The Box</td>\n",
       "      <td>2020-05-01</td>\n",
       "      <td>rap-song</td>\n",
       "      <td>Roddy+Ricch+The+Box</td>\n",
       "      <td>0.896</td>\n",
       "      <td>0.586</td>\n",
       "      <td>10</td>\n",
       "      <td>-6.687</td>\n",
       "      <td>0</td>\n",
       "      <td>...</td>\n",
       "      <td>0.7900</td>\n",
       "      <td>0.642</td>\n",
       "      <td>116.971</td>\n",
       "      <td>audio_features</td>\n",
       "      <td>0nbXyq5TXYPCO7pr3N8S4I</td>\n",
       "      <td>spotify:track:0nbXyq5TXYPCO7pr3N8S4I</td>\n",
       "      <td>https://api.spotify.com/v1/tracks/0nbXyq5TXYPC...</td>\n",
       "      <td>https://api.spotify.com/v1/audio-analysis/0nbX...</td>\n",
       "      <td>196653</td>\n",
       "      <td>4</td>\n",
       "    </tr>\n",
       "    <tr>\n",
       "      <th>4</th>\n",
       "      <td>DaBaby Featuring Roddy Ricch</td>\n",
       "      <td>Rockstar</td>\n",
       "      <td>2020-05-01</td>\n",
       "      <td>rap-song</td>\n",
       "      <td>DaBaby+Rockstar</td>\n",
       "      <td>0.746</td>\n",
       "      <td>0.690</td>\n",
       "      <td>11</td>\n",
       "      <td>-7.956</td>\n",
       "      <td>1</td>\n",
       "      <td>...</td>\n",
       "      <td>0.1010</td>\n",
       "      <td>0.497</td>\n",
       "      <td>89.977</td>\n",
       "      <td>audio_features</td>\n",
       "      <td>7ytR5pFWmSjzHJIeQkgog4</td>\n",
       "      <td>spotify:track:7ytR5pFWmSjzHJIeQkgog4</td>\n",
       "      <td>https://api.spotify.com/v1/tracks/7ytR5pFWmSjz...</td>\n",
       "      <td>https://api.spotify.com/v1/audio-analysis/7ytR...</td>\n",
       "      <td>181733</td>\n",
       "      <td>4</td>\n",
       "    </tr>\n",
       "  </tbody>\n",
       "</table>\n",
       "<p>5 rows × 23 columns</p>\n",
       "</div>"
      ],
      "text/plain": [
       "                             artist         track        date     chart  \\\n",
       "0  NLE Choppa Featuring Roddy Ricch  Walk Em Down  2020-05-01  rap-song   \n",
       "1                            DaBaby   Find My Way  2020-05-01  rap-song   \n",
       "2                             Drake  Toosie Slide  2020-05-01  rap-song   \n",
       "3                       Roddy Ricch       The Box  2020-05-01  rap-song   \n",
       "4      DaBaby Featuring Roddy Ricch      Rockstar  2020-05-01  rap-song   \n",
       "\n",
       "             spotify_query  danceability  energy  key  loudness  mode  ...  \\\n",
       "0  NLE+Choppa+Walk+Em+Down         0.867   0.744    9    -5.171     0  ...   \n",
       "1       DaBaby+Find+My+Way         0.836   0.624    4    -6.750     0  ...   \n",
       "2       Drake+Toosie+Slide         0.834   0.454    1    -9.750     0  ...   \n",
       "3      Roddy+Ricch+The+Box         0.896   0.586   10    -6.687     0  ...   \n",
       "4          DaBaby+Rockstar         0.746   0.690   11    -7.956     1  ...   \n",
       "\n",
       "   liveness  valence    tempo            type                      id  \\\n",
       "0    0.0713    0.645   84.005  audio_features  4cSSL3YafYjM3yjgFO1vJg   \n",
       "1    0.1380    0.700  103.000  audio_features  1gVCEnryJhkdQcuC0Kbvor   \n",
       "2    0.1140    0.837   81.618  audio_features  127QTOFJsJQp5LbJbu3A1y   \n",
       "3    0.7900    0.642  116.971  audio_features  0nbXyq5TXYPCO7pr3N8S4I   \n",
       "4    0.1010    0.497   89.977  audio_features  7ytR5pFWmSjzHJIeQkgog4   \n",
       "\n",
       "                                    uri  \\\n",
       "0  spotify:track:4cSSL3YafYjM3yjgFO1vJg   \n",
       "1  spotify:track:1gVCEnryJhkdQcuC0Kbvor   \n",
       "2  spotify:track:127QTOFJsJQp5LbJbu3A1y   \n",
       "3  spotify:track:0nbXyq5TXYPCO7pr3N8S4I   \n",
       "4  spotify:track:7ytR5pFWmSjzHJIeQkgog4   \n",
       "\n",
       "                                          track_href  \\\n",
       "0  https://api.spotify.com/v1/tracks/4cSSL3YafYjM...   \n",
       "1  https://api.spotify.com/v1/tracks/1gVCEnryJhkd...   \n",
       "2  https://api.spotify.com/v1/tracks/127QTOFJsJQp...   \n",
       "3  https://api.spotify.com/v1/tracks/0nbXyq5TXYPC...   \n",
       "4  https://api.spotify.com/v1/tracks/7ytR5pFWmSjz...   \n",
       "\n",
       "                                        analysis_url duration_ms  \\\n",
       "0  https://api.spotify.com/v1/audio-analysis/4cSS...      173288   \n",
       "1  https://api.spotify.com/v1/audio-analysis/1gVC...      139890   \n",
       "2  https://api.spotify.com/v1/audio-analysis/127Q...      247059   \n",
       "3  https://api.spotify.com/v1/audio-analysis/0nbX...      196653   \n",
       "4  https://api.spotify.com/v1/audio-analysis/7ytR...      181733   \n",
       "\n",
       "  time_signature  \n",
       "0              4  \n",
       "1              4  \n",
       "2              4  \n",
       "3              4  \n",
       "4              4  \n",
       "\n",
       "[5 rows x 23 columns]"
      ]
     },
     "execution_count": 9,
     "metadata": {},
     "output_type": "execute_result"
    }
   ],
   "source": [
    "train_data.head()"
   ]
  },
  {
   "cell_type": "code",
   "execution_count": 14,
   "metadata": {},
   "outputs": [],
   "source": [
    "check = [True, False, False]"
   ]
  },
  {
   "cell_type": "code",
   "execution_count": 15,
   "metadata": {},
   "outputs": [
    {
     "data": {
      "text/plain": [
       "1"
      ]
     },
     "execution_count": 15,
     "metadata": {},
     "output_type": "execute_result"
    }
   ],
   "source": [
    "sum(check)"
   ]
  },
  {
   "cell_type": "code",
   "execution_count": 28,
   "metadata": {},
   "outputs": [],
   "source": [
    "exp=train_data['mode'].unique().tolist()"
   ]
  },
  {
   "cell_type": "code",
   "execution_count": 26,
   "metadata": {},
   "outputs": [],
   "source": [
    "exp.sort()"
   ]
  },
  {
   "cell_type": "code",
   "execution_count": 27,
   "metadata": {},
   "outputs": [
    {
     "data": {
      "text/plain": [
       "[0, 1]"
      ]
     },
     "execution_count": 27,
     "metadata": {},
     "output_type": "execute_result"
    }
   ],
   "source": [
    "exp"
   ]
  },
  {
   "cell_type": "code",
   "execution_count": 49,
   "metadata": {},
   "outputs": [],
   "source": [
    "EXP_PRECISION = 0.84\n",
    "EXP_RECAL = 0.77\n",
    "EXP_AUC = 0.91"
   ]
  },
  {
   "cell_type": "code",
   "execution_count": 50,
   "metadata": {},
   "outputs": [],
   "source": [
    "yaml_path = \"/Users/briancai/Drive/NU/Q3/AVC/litness_test/2020-MSIA423-Cai-Litness-Test/model/test_metrics.yaml\""
   ]
  },
  {
   "cell_type": "code",
   "execution_count": 51,
   "metadata": {},
   "outputs": [],
   "source": [
    "with open(yaml_path, \"r\") as f:\n",
    "\t\ttest_metrics = yaml.load(f, Loader=yaml.FullLoader)"
   ]
  },
  {
   "cell_type": "code",
   "execution_count": 55,
   "metadata": {},
   "outputs": [
    {
     "data": {
      "text/plain": [
       "True"
      ]
     },
     "execution_count": 55,
     "metadata": {},
     "output_type": "execute_result"
    }
   ],
   "source": [
    "test_metrics['test_precision'] == 0.84"
   ]
  },
  {
   "cell_type": "code",
   "execution_count": 56,
   "metadata": {},
   "outputs": [
    {
     "data": {
      "text/plain": [
       "{'baseline_precision': 0.45,\n",
       " 'baseline_recall': 1.0,\n",
       " 'baseline_roc': 0.5,\n",
       " 'test_precision': 0.84,\n",
       " 'test_recall': 0.77,\n",
       " 'test_roc': 0.91}"
      ]
     },
     "execution_count": 56,
     "metadata": {},
     "output_type": "execute_result"
    }
   ],
   "source": [
    "test_metrics"
   ]
  },
  {
   "cell_type": "code",
   "execution_count": 58,
   "metadata": {},
   "outputs": [],
   "source": [
    "os.environ.get(\"SPOTIFY_CID\")"
   ]
  },
  {
   "cell_type": "code",
   "execution_count": 60,
   "metadata": {},
   "outputs": [],
   "source": [
    "client_credentials_manager = SpotifyClientCredentials(client_id=\"123\", client_secret=\"sdf\")"
   ]
  },
  {
   "cell_type": "code",
   "execution_count": 61,
   "metadata": {},
   "outputs": [],
   "source": [
    "sp = spotipy.Spotify(client_credentials_manager = client_credentials_manager)"
   ]
  },
  {
   "cell_type": "code",
   "execution_count": 66,
   "metadata": {},
   "outputs": [],
   "source": [
    "engine = sqlalchemy.create_engine('sqlite:////')\n",
    "\n",
    "Session = sessionmaker(bind=engine)"
   ]
  },
  {
   "cell_type": "code",
   "execution_count": 67,
   "metadata": {},
   "outputs": [],
   "source": [
    "session = Session()"
   ]
  },
  {
   "cell_type": "code",
   "execution_count": 68,
   "metadata": {},
   "outputs": [
    {
     "ename": "NameError",
     "evalue": "name 'Litness' is not defined",
     "output_type": "error",
     "traceback": [
      "\u001b[0;31m---------------------------------------------------------------------------\u001b[0m",
      "\u001b[0;31mNameError\u001b[0m                                 Traceback (most recent call last)",
      "\u001b[0;32m<ipython-input-68-1803494bda10>\u001b[0m in \u001b[0;36m<module>\u001b[0;34m\u001b[0m\n\u001b[0;32m----> 1\u001b[0;31m \u001b[0mtrack\u001b[0m \u001b[0;34m=\u001b[0m \u001b[0mLitness\u001b[0m\u001b[0;34m(\u001b[0m\u001b[0martist\u001b[0m\u001b[0;34m=\u001b[0m\u001b[0;34m\"test_artist\"\u001b[0m\u001b[0;34m,\u001b[0m \u001b[0mtitle\u001b[0m\u001b[0;34m=\u001b[0m\u001b[0;34m\"test_title\"\u001b[0m\u001b[0;34m,\u001b[0m \u001b[0mscore\u001b[0m \u001b[0;34m=\u001b[0m \u001b[0;36m100\u001b[0m\u001b[0;34m)\u001b[0m\u001b[0;34m\u001b[0m\u001b[0;34m\u001b[0m\u001b[0m\n\u001b[0m",
      "\u001b[0;31mNameError\u001b[0m: name 'Litness' is not defined"
     ]
    }
   ],
   "source": [
    "track = Litness(artist=\"test_artist\", title=\"test_title\", score = 100)"
   ]
  },
  {
   "cell_type": "code",
   "execution_count": 70,
   "metadata": {},
   "outputs": [],
   "source": [
    "cid = None\n",
    "sid = \"something\""
   ]
  },
  {
   "cell_type": "code",
   "execution_count": 72,
   "metadata": {},
   "outputs": [
    {
     "name": "stdout",
     "output_type": "stream",
     "text": [
      "something is up\n"
     ]
    }
   ],
   "source": [
    "if (cid == None) | (sid == None):\n",
    "    print(\"something is up\")"
   ]
  },
  {
   "cell_type": "code",
   "execution_count": null,
   "metadata": {},
   "outputs": [],
   "source": []
  }
 ],
 "metadata": {
  "kernelspec": {
   "display_name": "Python 3",
   "language": "python",
   "name": "python3"
  },
  "language_info": {
   "codemirror_mode": {
    "name": "ipython",
    "version": 3
   },
   "file_extension": ".py",
   "mimetype": "text/x-python",
   "name": "python",
   "nbconvert_exporter": "python",
   "pygments_lexer": "ipython3",
   "version": "3.7.3"
  },
  "toc": {
   "base_numbering": 1,
   "nav_menu": {},
   "number_sections": true,
   "sideBar": true,
   "skip_h1_title": false,
   "title_cell": "Table of Contents",
   "title_sidebar": "Contents",
   "toc_cell": false,
   "toc_position": {},
   "toc_section_display": true,
   "toc_window_display": false
  },
  "varInspector": {
   "cols": {
    "lenName": 16,
    "lenType": 16,
    "lenVar": 40
   },
   "kernels_config": {
    "python": {
     "delete_cmd_postfix": "",
     "delete_cmd_prefix": "del ",
     "library": "var_list.py",
     "varRefreshCmd": "print(var_dic_list())"
    },
    "r": {
     "delete_cmd_postfix": ") ",
     "delete_cmd_prefix": "rm(",
     "library": "var_list.r",
     "varRefreshCmd": "cat(var_dic_list()) "
    }
   },
   "types_to_exclude": [
    "module",
    "function",
    "builtin_function_or_method",
    "instance",
    "_Feature"
   ],
   "window_display": false
  }
 },
 "nbformat": 4,
 "nbformat_minor": 4
}
