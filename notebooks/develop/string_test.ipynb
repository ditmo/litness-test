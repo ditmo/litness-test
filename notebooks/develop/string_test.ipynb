{
 "cells": [
  {
   "cell_type": "code",
   "execution_count": 1,
   "metadata": {},
   "outputs": [],
   "source": [
    "year_start = 2000\n",
    "year_end = 2019"
   ]
  },
  {
   "cell_type": "code",
   "execution_count": 4,
   "metadata": {},
   "outputs": [],
   "source": [
    "filename = 'spotify_{}_to_{}.csv'.format(year_start,year_end)"
   ]
  },
  {
   "cell_type": "code",
   "execution_count": 3,
   "metadata": {},
   "outputs": [
    {
     "data": {
      "text/plain": [
       "'spotify_2000_to_2019'"
      ]
     },
     "execution_count": 3,
     "metadata": {},
     "output_type": "execute_result"
    }
   ],
   "source": [
    "filename"
   ]
  },
  {
   "cell_type": "code",
   "execution_count": 11,
   "metadata": {},
   "outputs": [],
   "source": [
    "# Version: Ready for midpoint review\n",
    "\n",
    "from os import path\n",
    "import os\n",
    "\n",
    "# Getting the parent directory of this file. That will function as the project home.\n",
    "PROJECT_HOME =''\n",
    "\n",
    "# Logging\n",
    "LOGGING_CONFIG = path.join(PROJECT_HOME, 'config/logging.conf')\n",
    "\n",
    "# Billboard charts parameters\n",
    "\n",
    "START_YEAR = 2015\n",
    "END_YEAR = 2020\n",
    "\n",
    "RAPSONG_TOPX = 25\n",
    "HOT100_TOPX = 40\n",
    "\n",
    "# Acquire and process config\n",
    "# MAX_RECORDS_READ = 100\n",
    "BB_HOT100_LOCATION = path.join(PROJECT_HOME,\n",
    "\t'data/bb_hot100_{}_to_{}.json'.format(START_YEAR, END_YEAR))\n",
    "BB_RAPSONG_LOCATION = path.join(PROJECT_HOME,\n",
    "\t'data/bb_rapsong_{}_to_{}.json'.format(START_YEAR, END_YEAR))\n",
    "SPOTIFY_LOCATION = path.join(PROJECT_HOME, \n",
    "\t'data/spotify_{}_to_{}.csv'.format(START_YEAR, END_YEAR))\n",
    "\n",
    "# Spotify API keys\n",
    "SPOTIFY_CID = os.environ.get(\"SPOTIFY_CID\")\n",
    "SPOTIFY_SECRET = os.environ.get(\"SPOTIFY_SECRET\")\n",
    "\n",
    "# S3\n",
    "S3_BUCKET_NAME = os.environ.get(\"AWS_BUCKET\")\n",
    "BB_HOT100_NAME = 'bb_hot100{}_to_{}.json'.format(START_YEAR, END_YEAR)\n",
    "BB_RAPSONG_NAME = 'bb_rapsong_{}_to_{}.json'.format(START_YEAR, END_YEAR)\n",
    "SPOTIFY_NAME = 'spotify_{}_to_{}.csv'.format(START_YEAR, END_YEAR)\n",
    "\n",
    "# Boolean variable for creation of local database instead of on RDS\n",
    "OFFLINE_DB_FLAG = True \n",
    "\n",
    "# SQLite database\n",
    "DATABASE_PATH = path.join(PROJECT_HOME, 'data/billboard_spotify.db')\n",
    "SQLITE_ENGINE = 'sqlite:////{}'.format(DATABASE_PATH)\n",
    "\n",
    "# MySQL database\n",
    "CONN_TYPE = \"mysql+pymysql\"\n",
    "USER = os.environ.get(\"MYSQL_USER\")\n",
    "PASSWORD = os.environ.get(\"MYSQL_PASSWORD\")\n",
    "HOST = os.environ.get(\"MYSQL_HOST\")\n",
    "PORT = os.environ.get(\"MYSQL_PORT\")\n",
    "DATABASE_NAME = os.environ.get(\"DATABASE_NAME\")\n",
    "MYSQL_ENGINE = \"{}://{}:{}@{}:{}/{}\".format(CONN_TYPE, USER, PASSWORD, HOST, PORT, DATABASE_NAME)"
   ]
  },
  {
   "cell_type": "code",
   "execution_count": 12,
   "metadata": {},
   "outputs": [
    {
     "data": {
      "text/plain": [
       "'data/spotify_2015_to_2020.csv'"
      ]
     },
     "execution_count": 12,
     "metadata": {},
     "output_type": "execute_result"
    }
   ],
   "source": [
    "SPOTIFY_LOCATION"
   ]
  },
  {
   "cell_type": "code",
   "execution_count": null,
   "metadata": {},
   "outputs": [],
   "source": []
  }
 ],
 "metadata": {
  "kernelspec": {
   "display_name": "Python 3",
   "language": "python",
   "name": "python3"
  },
  "language_info": {
   "codemirror_mode": {
    "name": "ipython",
    "version": 3
   },
   "file_extension": ".py",
   "mimetype": "text/x-python",
   "name": "python",
   "nbconvert_exporter": "python",
   "pygments_lexer": "ipython3",
   "version": "3.7.3"
  },
  "toc": {
   "base_numbering": 1,
   "nav_menu": {},
   "number_sections": true,
   "sideBar": true,
   "skip_h1_title": false,
   "title_cell": "Table of Contents",
   "title_sidebar": "Contents",
   "toc_cell": false,
   "toc_position": {},
   "toc_section_display": true,
   "toc_window_display": false
  },
  "varInspector": {
   "cols": {
    "lenName": 16,
    "lenType": 16,
    "lenVar": 40
   },
   "kernels_config": {
    "python": {
     "delete_cmd_postfix": "",
     "delete_cmd_prefix": "del ",
     "library": "var_list.py",
     "varRefreshCmd": "print(var_dic_list())"
    },
    "r": {
     "delete_cmd_postfix": ") ",
     "delete_cmd_prefix": "rm(",
     "library": "var_list.r",
     "varRefreshCmd": "cat(var_dic_list()) "
    }
   },
   "types_to_exclude": [
    "module",
    "function",
    "builtin_function_or_method",
    "instance",
    "_Feature"
   ],
   "window_display": false
  }
 },
 "nbformat": 4,
 "nbformat_minor": 4
}
