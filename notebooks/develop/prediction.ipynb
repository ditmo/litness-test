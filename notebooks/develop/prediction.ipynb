{
 "cells": [
  {
   "cell_type": "code",
   "execution_count": 140,
   "metadata": {},
   "outputs": [],
   "source": [
    "import pandas as pd\n",
    "import numpy as np\n",
    "import re\n",
    "import spotipy\n",
    "from spotipy.oauth2 import SpotifyClientCredentials\n",
    "from os import path\n",
    "import os\n",
    "import config\n",
    "import pickle"
   ]
  },
  {
   "cell_type": "code",
   "execution_count": 75,
   "metadata": {},
   "outputs": [],
   "source": [
    "def query_spotify_id(search, cid, secret):\n",
    "    \n",
    "    search = search.replace(\" \", \"+\")\n",
    "    \n",
    "    client_credentials_manager = SpotifyClientCredentials(client_id=cid, client_secret=secret)\n",
    "    sp = spotipy.Spotify(client_credentials_manager = client_credentials_manager)\n",
    "    \n",
    "    query = sp.search(search)\n",
    "    \n",
    "    result = {}\n",
    "    result['id'] = query['tracks']['items'][0]['id']\n",
    "    result['artist'] = query['tracks']['items'][0]['artists'][0]['name']\n",
    "    result['title'] = query['tracks']['items'][0]['name']\n",
    "    \n",
    "    return result"
   ]
  },
  {
   "cell_type": "code",
   "execution_count": 158,
   "metadata": {},
   "outputs": [],
   "source": [
    "ss = \n",
    "sc = "
   ]
  },
  {
   "cell_type": "code",
   "execution_count": 203,
   "metadata": {},
   "outputs": [],
   "source": [
    "query = \"lil yachty t.d\""
   ]
  },
  {
   "cell_type": "code",
   "execution_count": 204,
   "metadata": {},
   "outputs": [],
   "source": [
    "result = query_spotify_id(query, sc, ss)"
   ]
  },
  {
   "cell_type": "code",
   "execution_count": 205,
   "metadata": {},
   "outputs": [
    {
     "data": {
      "text/plain": [
       "{'id': '0gO3E51A3fqp0ypJ26QbVP',\n",
       " 'artist': 'Lil Yachty',\n",
       " 'title': 'T.D (Lil Yachty & Tierra Whack feat. A$AP Rocky & Tyler, The Creator)'}"
      ]
     },
     "execution_count": 205,
     "metadata": {},
     "output_type": "execute_result"
    }
   ],
   "source": [
    "result"
   ]
  },
  {
   "cell_type": "code",
   "execution_count": 206,
   "metadata": {},
   "outputs": [],
   "source": [
    "def get_song_features(song_id, cid, secret):\n",
    "    client_credentials_manager = SpotifyClientCredentials(client_id=cid, client_secret=secret)\n",
    "    sp = spotipy.Spotify(client_credentials_manager = client_credentials_manager)\n",
    "    \n",
    "    audio_feature = sp.audio_features(song_id)[0]\n",
    "    \n",
    "    return audio_feature"
   ]
  },
  {
   "cell_type": "code",
   "execution_count": 207,
   "metadata": {},
   "outputs": [
    {
     "data": {
      "text/plain": [
       "{'danceability': 0.784,\n",
       " 'energy': 0.632,\n",
       " 'key': 10,\n",
       " 'loudness': -6.083,\n",
       " 'mode': 0,\n",
       " 'speechiness': 0.347,\n",
       " 'acousticness': 0.156,\n",
       " 'instrumentalness': 0,\n",
       " 'liveness': 0.605,\n",
       " 'valence': 0.746,\n",
       " 'tempo': 124.603,\n",
       " 'type': 'audio_features',\n",
       " 'id': '0gO3E51A3fqp0ypJ26QbVP',\n",
       " 'uri': 'spotify:track:0gO3E51A3fqp0ypJ26QbVP',\n",
       " 'track_href': 'https://api.spotify.com/v1/tracks/0gO3E51A3fqp0ypJ26QbVP',\n",
       " 'analysis_url': 'https://api.spotify.com/v1/audio-analysis/0gO3E51A3fqp0ypJ26QbVP',\n",
       " 'duration_ms': 232839,\n",
       " 'time_signature': 4}"
      ]
     },
     "execution_count": 207,
     "metadata": {},
     "output_type": "execute_result"
    }
   ],
   "source": [
    "features = get_song_features(result['id'], sc, ss)\n",
    "features"
   ]
  },
  {
   "cell_type": "code",
   "execution_count": 208,
   "metadata": {},
   "outputs": [],
   "source": [
    "def create_modeling_features(features):\n",
    "    key_dict = {0:'C', 1:'Db', 2: 'D', 3:'Eb', 4:'E', 5:'F', 6:'Gb', 7:'G', 8:'Ab', 9:'A', 10:'Bb', 11:'B'}\n",
    "    mode_dict = {1:'major', 0:'minor'}\n",
    "    feature_names = ['danceability', 'energy','loudness', 'acousticness', 'speechiness',\n",
    "                'instrumentalness', 'liveness', 'valence', 'tempo','duration_ms',\n",
    "                'key_A', 'key_Ab', 'key_B', 'key_Bb', 'key_C', 'key_D', 'key_Db', 'key_E', \n",
    "                'key_Eb', 'key_F', 'key_G', 'key_Gb','mode_major']\n",
    "    \n",
    "    # Get key name, convert to binary feature\n",
    "    key = key_dict[features['key']]\n",
    "    key_feature_name = \"key_\" + key\n",
    "    features.update( {key_feature_name : 1} )\n",
    "    \n",
    "    # Add mode_major feature\n",
    "    features.update({\"mode_major\": features['mode']})\n",
    "    \n",
    "    # Create dictionary with modeling features\n",
    "    model_features = {}\n",
    "    for f in feature_names:\n",
    "        if f in list(features.keys()):\n",
    "            model_features[f] = features[f]\n",
    "        else:\n",
    "            model_features[f] = 0\n",
    "            \n",
    "    # Return modeling features as single row DataFrame\n",
    "    return pd.DataFrame([model_features])"
   ]
  },
  {
   "cell_type": "code",
   "execution_count": 209,
   "metadata": {},
   "outputs": [],
   "source": [
    "features_df = create_modeling_features(features)"
   ]
  },
  {
   "cell_type": "code",
   "execution_count": 210,
   "metadata": {},
   "outputs": [],
   "source": [
    "model = pickle.load(open( \"/Users/briancai/Drive/NU/Q3/AVC/litness_test/2020-MSIA423-Cai-Litness-Test/model/random_forest_classifier.pkl\", \"rb\" ) )"
   ]
  },
  {
   "cell_type": "code",
   "execution_count": 211,
   "metadata": {},
   "outputs": [
    {
     "data": {
      "text/html": [
       "<div>\n",
       "<style scoped>\n",
       "    .dataframe tbody tr th:only-of-type {\n",
       "        vertical-align: middle;\n",
       "    }\n",
       "\n",
       "    .dataframe tbody tr th {\n",
       "        vertical-align: top;\n",
       "    }\n",
       "\n",
       "    .dataframe thead th {\n",
       "        text-align: right;\n",
       "    }\n",
       "</style>\n",
       "<table border=\"1\" class=\"dataframe\">\n",
       "  <thead>\n",
       "    <tr style=\"text-align: right;\">\n",
       "      <th></th>\n",
       "      <th>danceability</th>\n",
       "      <th>energy</th>\n",
       "      <th>loudness</th>\n",
       "      <th>acousticness</th>\n",
       "      <th>speechiness</th>\n",
       "      <th>instrumentalness</th>\n",
       "      <th>liveness</th>\n",
       "      <th>valence</th>\n",
       "      <th>tempo</th>\n",
       "      <th>duration_ms</th>\n",
       "      <th>...</th>\n",
       "      <th>key_Bb</th>\n",
       "      <th>key_C</th>\n",
       "      <th>key_D</th>\n",
       "      <th>key_Db</th>\n",
       "      <th>key_E</th>\n",
       "      <th>key_Eb</th>\n",
       "      <th>key_F</th>\n",
       "      <th>key_G</th>\n",
       "      <th>key_Gb</th>\n",
       "      <th>mode_major</th>\n",
       "    </tr>\n",
       "  </thead>\n",
       "  <tbody>\n",
       "    <tr>\n",
       "      <th>0</th>\n",
       "      <td>0.784</td>\n",
       "      <td>0.632</td>\n",
       "      <td>-6.083</td>\n",
       "      <td>0.156</td>\n",
       "      <td>0.347</td>\n",
       "      <td>0</td>\n",
       "      <td>0.605</td>\n",
       "      <td>0.746</td>\n",
       "      <td>124.603</td>\n",
       "      <td>232839</td>\n",
       "      <td>...</td>\n",
       "      <td>1</td>\n",
       "      <td>0</td>\n",
       "      <td>0</td>\n",
       "      <td>0</td>\n",
       "      <td>0</td>\n",
       "      <td>0</td>\n",
       "      <td>0</td>\n",
       "      <td>0</td>\n",
       "      <td>0</td>\n",
       "      <td>0</td>\n",
       "    </tr>\n",
       "  </tbody>\n",
       "</table>\n",
       "<p>1 rows × 23 columns</p>\n",
       "</div>"
      ],
      "text/plain": [
       "   danceability  energy  loudness  acousticness  speechiness  \\\n",
       "0         0.784   0.632    -6.083         0.156        0.347   \n",
       "\n",
       "   instrumentalness  liveness  valence    tempo  duration_ms  ...  key_Bb  \\\n",
       "0                 0     0.605    0.746  124.603       232839  ...       1   \n",
       "\n",
       "   key_C  key_D  key_Db  key_E  key_Eb  key_F  key_G  key_Gb  mode_major  \n",
       "0      0      0       0      0       0      0      0       0           0  \n",
       "\n",
       "[1 rows x 23 columns]"
      ]
     },
     "execution_count": 211,
     "metadata": {},
     "output_type": "execute_result"
    }
   ],
   "source": [
    "features_df"
   ]
  },
  {
   "cell_type": "code",
   "execution_count": 212,
   "metadata": {},
   "outputs": [
    {
     "data": {
      "text/plain": [
       "0.8655860400263706"
      ]
     },
     "execution_count": 212,
     "metadata": {},
     "output_type": "execute_result"
    }
   ],
   "source": [
    "model.predict_proba(features_df)[0][1]"
   ]
  },
  {
   "cell_type": "code",
   "execution_count": 1,
   "metadata": {},
   "outputs": [],
   "source": [
    "test = {\"tiff\": \"bagels\", \"brian\": \"popsicle\"}"
   ]
  },
  {
   "cell_type": "code",
   "execution_count": 2,
   "metadata": {},
   "outputs": [
    {
     "data": {
      "text/plain": [
       "{'tiff': 'bagels', 'brian': 'popsicle'}"
      ]
     },
     "execution_count": 2,
     "metadata": {},
     "output_type": "execute_result"
    }
   ],
   "source": [
    "test"
   ]
  },
  {
   "cell_type": "code",
   "execution_count": 5,
   "metadata": {},
   "outputs": [],
   "source": [
    "test['tiff'] = \"olives\""
   ]
  },
  {
   "cell_type": "code",
   "execution_count": 6,
   "metadata": {},
   "outputs": [
    {
     "data": {
      "text/plain": [
       "{'tiff': 'olives', 'brian': 'popsicle'}"
      ]
     },
     "execution_count": 6,
     "metadata": {},
     "output_type": "execute_result"
    }
   ],
   "source": [
    "test"
   ]
  },
  {
   "cell_type": "code",
   "execution_count": null,
   "metadata": {},
   "outputs": [],
   "source": []
  }
 ],
 "metadata": {
  "kernelspec": {
   "display_name": "Python 3",
   "language": "python",
   "name": "python3"
  },
  "language_info": {
   "codemirror_mode": {
    "name": "ipython",
    "version": 3
   },
   "file_extension": ".py",
   "mimetype": "text/x-python",
   "name": "python",
   "nbconvert_exporter": "python",
   "pygments_lexer": "ipython3",
   "version": "3.7.3"
  },
  "toc": {
   "base_numbering": 1,
   "nav_menu": {},
   "number_sections": true,
   "sideBar": true,
   "skip_h1_title": false,
   "title_cell": "Table of Contents",
   "title_sidebar": "Contents",
   "toc_cell": false,
   "toc_position": {},
   "toc_section_display": true,
   "toc_window_display": false
  },
  "varInspector": {
   "cols": {
    "lenName": 16,
    "lenType": 16,
    "lenVar": 40
   },
   "kernels_config": {
    "python": {
     "delete_cmd_postfix": "",
     "delete_cmd_prefix": "del ",
     "library": "var_list.py",
     "varRefreshCmd": "print(var_dic_list())"
    },
    "r": {
     "delete_cmd_postfix": ") ",
     "delete_cmd_prefix": "rm(",
     "library": "var_list.r",
     "varRefreshCmd": "cat(var_dic_list()) "
    }
   },
   "types_to_exclude": [
    "module",
    "function",
    "builtin_function_or_method",
    "instance",
    "_Feature"
   ],
   "window_display": false
  }
 },
 "nbformat": 4,
 "nbformat_minor": 4
}
