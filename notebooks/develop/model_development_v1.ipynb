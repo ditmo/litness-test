{
 "cells": [
  {
   "cell_type": "code",
   "execution_count": 175,
   "metadata": {},
   "outputs": [],
   "source": [
    "import pandas as pd\n",
    "import numpy as np\n",
    "import matplotlib\n",
    "import matplotlib.pyplot as plt\n",
    "from sklearn.preprocessing import LabelEncoder \n",
    "from sklearn.preprocessing import OneHotEncoder \n",
    "from sklearn.model_selection import train_test_split\n",
    "from sklearn.metrics import precision_score, recall_score, roc_auc_score, roc_curve\n",
    "from sklearn.model_selection import RandomizedSearchCV\n",
    "from sklearn.ensemble import RandomForestClassifier\n",
    "from alepython import ale_plot\n",
    "from sklearn.inspection import plot_partial_dependence"
   ]
  },
  {
   "cell_type": "code",
   "execution_count": 3,
   "metadata": {},
   "outputs": [],
   "source": [
    "spotify_df = pd.read_csv('/Users/briancai/Drive/NU/Q3/AVC/litness_test/2020-MSIA423-Cai-Litness-Test/data/spotify_2000_to_2020.csv', index_col = 0)"
   ]
  },
  {
   "cell_type": "code",
   "execution_count": 4,
   "metadata": {},
   "outputs": [
    {
     "data": {
      "text/html": [
       "<div>\n",
       "<style scoped>\n",
       "    .dataframe tbody tr th:only-of-type {\n",
       "        vertical-align: middle;\n",
       "    }\n",
       "\n",
       "    .dataframe tbody tr th {\n",
       "        vertical-align: top;\n",
       "    }\n",
       "\n",
       "    .dataframe thead th {\n",
       "        text-align: right;\n",
       "    }\n",
       "</style>\n",
       "<table border=\"1\" class=\"dataframe\">\n",
       "  <thead>\n",
       "    <tr style=\"text-align: right;\">\n",
       "      <th></th>\n",
       "      <th>artist</th>\n",
       "      <th>track</th>\n",
       "      <th>date</th>\n",
       "      <th>chart</th>\n",
       "      <th>spotify_query</th>\n",
       "      <th>danceability</th>\n",
       "      <th>energy</th>\n",
       "      <th>key</th>\n",
       "      <th>loudness</th>\n",
       "      <th>mode</th>\n",
       "      <th>...</th>\n",
       "      <th>liveness</th>\n",
       "      <th>valence</th>\n",
       "      <th>tempo</th>\n",
       "      <th>type</th>\n",
       "      <th>id</th>\n",
       "      <th>uri</th>\n",
       "      <th>track_href</th>\n",
       "      <th>analysis_url</th>\n",
       "      <th>duration_ms</th>\n",
       "      <th>time_signature</th>\n",
       "    </tr>\n",
       "  </thead>\n",
       "  <tbody>\n",
       "    <tr>\n",
       "      <th>0</th>\n",
       "      <td>NLE Choppa Featuring Roddy Ricch</td>\n",
       "      <td>Walk Em Down</td>\n",
       "      <td>2020-05-01</td>\n",
       "      <td>rap-song</td>\n",
       "      <td>NLE+Choppa+Walk+Em+Down</td>\n",
       "      <td>0.867</td>\n",
       "      <td>0.744</td>\n",
       "      <td>9</td>\n",
       "      <td>-5.171</td>\n",
       "      <td>0</td>\n",
       "      <td>...</td>\n",
       "      <td>0.0713</td>\n",
       "      <td>0.645</td>\n",
       "      <td>84.005</td>\n",
       "      <td>audio_features</td>\n",
       "      <td>4cSSL3YafYjM3yjgFO1vJg</td>\n",
       "      <td>spotify:track:4cSSL3YafYjM3yjgFO1vJg</td>\n",
       "      <td>https://api.spotify.com/v1/tracks/4cSSL3YafYjM...</td>\n",
       "      <td>https://api.spotify.com/v1/audio-analysis/4cSS...</td>\n",
       "      <td>173288</td>\n",
       "      <td>4</td>\n",
       "    </tr>\n",
       "    <tr>\n",
       "      <th>1</th>\n",
       "      <td>DaBaby</td>\n",
       "      <td>Find My Way</td>\n",
       "      <td>2020-05-01</td>\n",
       "      <td>rap-song</td>\n",
       "      <td>DaBaby+Find+My+Way</td>\n",
       "      <td>0.836</td>\n",
       "      <td>0.624</td>\n",
       "      <td>4</td>\n",
       "      <td>-6.750</td>\n",
       "      <td>0</td>\n",
       "      <td>...</td>\n",
       "      <td>0.1380</td>\n",
       "      <td>0.700</td>\n",
       "      <td>103.000</td>\n",
       "      <td>audio_features</td>\n",
       "      <td>1gVCEnryJhkdQcuC0Kbvor</td>\n",
       "      <td>spotify:track:1gVCEnryJhkdQcuC0Kbvor</td>\n",
       "      <td>https://api.spotify.com/v1/tracks/1gVCEnryJhkd...</td>\n",
       "      <td>https://api.spotify.com/v1/audio-analysis/1gVC...</td>\n",
       "      <td>139890</td>\n",
       "      <td>4</td>\n",
       "    </tr>\n",
       "    <tr>\n",
       "      <th>2</th>\n",
       "      <td>Drake</td>\n",
       "      <td>Toosie Slide</td>\n",
       "      <td>2020-05-01</td>\n",
       "      <td>rap-song</td>\n",
       "      <td>Drake+Toosie+Slide</td>\n",
       "      <td>0.834</td>\n",
       "      <td>0.454</td>\n",
       "      <td>1</td>\n",
       "      <td>-9.750</td>\n",
       "      <td>0</td>\n",
       "      <td>...</td>\n",
       "      <td>0.1140</td>\n",
       "      <td>0.837</td>\n",
       "      <td>81.618</td>\n",
       "      <td>audio_features</td>\n",
       "      <td>127QTOFJsJQp5LbJbu3A1y</td>\n",
       "      <td>spotify:track:127QTOFJsJQp5LbJbu3A1y</td>\n",
       "      <td>https://api.spotify.com/v1/tracks/127QTOFJsJQp...</td>\n",
       "      <td>https://api.spotify.com/v1/audio-analysis/127Q...</td>\n",
       "      <td>247059</td>\n",
       "      <td>4</td>\n",
       "    </tr>\n",
       "    <tr>\n",
       "      <th>3</th>\n",
       "      <td>Roddy Ricch</td>\n",
       "      <td>The Box</td>\n",
       "      <td>2020-05-01</td>\n",
       "      <td>rap-song</td>\n",
       "      <td>Roddy+Ricch+The+Box</td>\n",
       "      <td>0.896</td>\n",
       "      <td>0.586</td>\n",
       "      <td>10</td>\n",
       "      <td>-6.687</td>\n",
       "      <td>0</td>\n",
       "      <td>...</td>\n",
       "      <td>0.7900</td>\n",
       "      <td>0.642</td>\n",
       "      <td>116.971</td>\n",
       "      <td>audio_features</td>\n",
       "      <td>0nbXyq5TXYPCO7pr3N8S4I</td>\n",
       "      <td>spotify:track:0nbXyq5TXYPCO7pr3N8S4I</td>\n",
       "      <td>https://api.spotify.com/v1/tracks/0nbXyq5TXYPC...</td>\n",
       "      <td>https://api.spotify.com/v1/audio-analysis/0nbX...</td>\n",
       "      <td>196653</td>\n",
       "      <td>4</td>\n",
       "    </tr>\n",
       "    <tr>\n",
       "      <th>4</th>\n",
       "      <td>DaBaby Featuring Roddy Ricch</td>\n",
       "      <td>Rockstar</td>\n",
       "      <td>2020-05-01</td>\n",
       "      <td>rap-song</td>\n",
       "      <td>DaBaby+Rockstar</td>\n",
       "      <td>0.746</td>\n",
       "      <td>0.690</td>\n",
       "      <td>11</td>\n",
       "      <td>-7.956</td>\n",
       "      <td>1</td>\n",
       "      <td>...</td>\n",
       "      <td>0.1010</td>\n",
       "      <td>0.497</td>\n",
       "      <td>89.977</td>\n",
       "      <td>audio_features</td>\n",
       "      <td>7ytR5pFWmSjzHJIeQkgog4</td>\n",
       "      <td>spotify:track:7ytR5pFWmSjzHJIeQkgog4</td>\n",
       "      <td>https://api.spotify.com/v1/tracks/7ytR5pFWmSjz...</td>\n",
       "      <td>https://api.spotify.com/v1/audio-analysis/7ytR...</td>\n",
       "      <td>181733</td>\n",
       "      <td>4</td>\n",
       "    </tr>\n",
       "  </tbody>\n",
       "</table>\n",
       "<p>5 rows × 23 columns</p>\n",
       "</div>"
      ],
      "text/plain": [
       "                             artist         track        date     chart  \\\n",
       "0  NLE Choppa Featuring Roddy Ricch  Walk Em Down  2020-05-01  rap-song   \n",
       "1                            DaBaby   Find My Way  2020-05-01  rap-song   \n",
       "2                             Drake  Toosie Slide  2020-05-01  rap-song   \n",
       "3                       Roddy Ricch       The Box  2020-05-01  rap-song   \n",
       "4      DaBaby Featuring Roddy Ricch      Rockstar  2020-05-01  rap-song   \n",
       "\n",
       "             spotify_query  danceability  energy  key  loudness  mode  ...  \\\n",
       "0  NLE+Choppa+Walk+Em+Down         0.867   0.744    9    -5.171     0  ...   \n",
       "1       DaBaby+Find+My+Way         0.836   0.624    4    -6.750     0  ...   \n",
       "2       Drake+Toosie+Slide         0.834   0.454    1    -9.750     0  ...   \n",
       "3      Roddy+Ricch+The+Box         0.896   0.586   10    -6.687     0  ...   \n",
       "4          DaBaby+Rockstar         0.746   0.690   11    -7.956     1  ...   \n",
       "\n",
       "   liveness  valence    tempo            type                      id  \\\n",
       "0    0.0713    0.645   84.005  audio_features  4cSSL3YafYjM3yjgFO1vJg   \n",
       "1    0.1380    0.700  103.000  audio_features  1gVCEnryJhkdQcuC0Kbvor   \n",
       "2    0.1140    0.837   81.618  audio_features  127QTOFJsJQp5LbJbu3A1y   \n",
       "3    0.7900    0.642  116.971  audio_features  0nbXyq5TXYPCO7pr3N8S4I   \n",
       "4    0.1010    0.497   89.977  audio_features  7ytR5pFWmSjzHJIeQkgog4   \n",
       "\n",
       "                                    uri  \\\n",
       "0  spotify:track:4cSSL3YafYjM3yjgFO1vJg   \n",
       "1  spotify:track:1gVCEnryJhkdQcuC0Kbvor   \n",
       "2  spotify:track:127QTOFJsJQp5LbJbu3A1y   \n",
       "3  spotify:track:0nbXyq5TXYPCO7pr3N8S4I   \n",
       "4  spotify:track:7ytR5pFWmSjzHJIeQkgog4   \n",
       "\n",
       "                                          track_href  \\\n",
       "0  https://api.spotify.com/v1/tracks/4cSSL3YafYjM...   \n",
       "1  https://api.spotify.com/v1/tracks/1gVCEnryJhkd...   \n",
       "2  https://api.spotify.com/v1/tracks/127QTOFJsJQp...   \n",
       "3  https://api.spotify.com/v1/tracks/0nbXyq5TXYPC...   \n",
       "4  https://api.spotify.com/v1/tracks/7ytR5pFWmSjz...   \n",
       "\n",
       "                                        analysis_url duration_ms  \\\n",
       "0  https://api.spotify.com/v1/audio-analysis/4cSS...      173288   \n",
       "1  https://api.spotify.com/v1/audio-analysis/1gVC...      139890   \n",
       "2  https://api.spotify.com/v1/audio-analysis/127Q...      247059   \n",
       "3  https://api.spotify.com/v1/audio-analysis/0nbX...      196653   \n",
       "4  https://api.spotify.com/v1/audio-analysis/7ytR...      181733   \n",
       "\n",
       "  time_signature  \n",
       "0              4  \n",
       "1              4  \n",
       "2              4  \n",
       "3              4  \n",
       "4              4  \n",
       "\n",
       "[5 rows x 23 columns]"
      ]
     },
     "execution_count": 4,
     "metadata": {},
     "output_type": "execute_result"
    }
   ],
   "source": [
    "spotify_df.head()"
   ]
  },
  {
   "cell_type": "markdown",
   "metadata": {},
   "source": [
    "# Data exploration / cleaning"
   ]
  },
  {
   "cell_type": "code",
   "execution_count": 5,
   "metadata": {},
   "outputs": [
    {
     "data": {
      "text/plain": [
       "artist               object\n",
       "track                object\n",
       "date                 object\n",
       "chart                object\n",
       "spotify_query        object\n",
       "danceability        float64\n",
       "energy              float64\n",
       "key                   int64\n",
       "loudness            float64\n",
       "mode                  int64\n",
       "speechiness         float64\n",
       "acousticness        float64\n",
       "instrumentalness    float64\n",
       "liveness            float64\n",
       "valence             float64\n",
       "tempo               float64\n",
       "type                 object\n",
       "id                   object\n",
       "uri                  object\n",
       "track_href           object\n",
       "analysis_url         object\n",
       "duration_ms           int64\n",
       "time_signature        int64\n",
       "dtype: object"
      ]
     },
     "execution_count": 5,
     "metadata": {},
     "output_type": "execute_result"
    }
   ],
   "source": [
    "spotify_df.dtypes"
   ]
  },
  {
   "cell_type": "markdown",
   "metadata": {},
   "source": [
    "Covert BPM in the range of 80 and 160 (multiply BPMs < 80 by 2, divide BPMs > 160 by 2)"
   ]
  },
  {
   "cell_type": "code",
   "execution_count": 6,
   "metadata": {},
   "outputs": [],
   "source": [
    "spotify_df.loc[spotify_df.tempo < 80, 'tempo'] = spotify_df.loc[spotify_df.tempo < 80, 'tempo'] * 2\n",
    "spotify_df.loc[spotify_df.tempo > 160, 'tempo'] = spotify_df.loc[spotify_df.tempo > 160, 'tempo'] / 2"
   ]
  },
  {
   "cell_type": "markdown",
   "metadata": {},
   "source": [
    "Create year column"
   ]
  },
  {
   "cell_type": "code",
   "execution_count": 7,
   "metadata": {},
   "outputs": [],
   "source": [
    "spotify_df['year'] = pd.to_numeric(spotify_df['date'].str[:4])"
   ]
  },
  {
   "cell_type": "markdown",
   "metadata": {},
   "source": [
    "Convert key + mode integers to key names"
   ]
  },
  {
   "cell_type": "code",
   "execution_count": 8,
   "metadata": {},
   "outputs": [],
   "source": [
    "key_dict = {0:'C', 1:'Db', 2: 'D', 3:'Eb', 4:'E', 5:'F', 6:'Gb', 7:'G', 8:'Ab', 9:'A', 10:'Bb', 11:'B'}\n",
    "mode_dict = {1:'major', 0:'minor'}\n",
    "\n",
    "spotify_df['key_name'] = spotify_df['key'].map(key_dict)\n",
    "spotify_df['mode_name'] = spotify_df['mode'].map(mode_dict)\n",
    "\n",
    "spotify_df['key_full'] = spotify_df['key_name'] + spotify_df['mode_name']"
   ]
  },
  {
   "cell_type": "markdown",
   "metadata": {},
   "source": [
    "## Overall differences between Rap songs and Hot 100 songs"
   ]
  },
  {
   "cell_type": "markdown",
   "metadata": {},
   "source": [
    "Balanced number of Hot 100 and Rap songs "
   ]
  },
  {
   "cell_type": "code",
   "execution_count": 9,
   "metadata": {},
   "outputs": [
    {
     "data": {
      "text/html": [
       "<div>\n",
       "<style scoped>\n",
       "    .dataframe tbody tr th:only-of-type {\n",
       "        vertical-align: middle;\n",
       "    }\n",
       "\n",
       "    .dataframe tbody tr th {\n",
       "        vertical-align: top;\n",
       "    }\n",
       "\n",
       "    .dataframe thead th {\n",
       "        text-align: right;\n",
       "    }\n",
       "</style>\n",
       "<table border=\"1\" class=\"dataframe\">\n",
       "  <thead>\n",
       "    <tr style=\"text-align: right;\">\n",
       "      <th></th>\n",
       "      <th>track</th>\n",
       "    </tr>\n",
       "    <tr>\n",
       "      <th>chart</th>\n",
       "      <th></th>\n",
       "    </tr>\n",
       "  </thead>\n",
       "  <tbody>\n",
       "    <tr>\n",
       "      <th>hot-100</th>\n",
       "      <td>1984</td>\n",
       "    </tr>\n",
       "    <tr>\n",
       "      <th>rap-song</th>\n",
       "      <td>1533</td>\n",
       "    </tr>\n",
       "  </tbody>\n",
       "</table>\n",
       "</div>"
      ],
      "text/plain": [
       "          track\n",
       "chart          \n",
       "hot-100    1984\n",
       "rap-song   1533"
      ]
     },
     "execution_count": 9,
     "metadata": {},
     "output_type": "execute_result"
    }
   ],
   "source": [
    "spotify_df.groupby('chart')[['track']].count()"
   ]
  },
  {
   "cell_type": "markdown",
   "metadata": {},
   "source": [
    "Averages between Rap Song and Hot 100 charts continuous features:\n",
    "- Rap songs more danceable, more speechiness (as expected), more live performance vibes, and less acoustic\n",
    "- Not much difference in terms of energy, volume, valence, tempo, and duration"
   ]
  },
  {
   "cell_type": "code",
   "execution_count": 11,
   "metadata": {},
   "outputs": [
    {
     "data": {
      "text/html": [
       "<div>\n",
       "<style scoped>\n",
       "    .dataframe tbody tr th:only-of-type {\n",
       "        vertical-align: middle;\n",
       "    }\n",
       "\n",
       "    .dataframe tbody tr th {\n",
       "        vertical-align: top;\n",
       "    }\n",
       "\n",
       "    .dataframe thead th {\n",
       "        text-align: right;\n",
       "    }\n",
       "</style>\n",
       "<table border=\"1\" class=\"dataframe\">\n",
       "  <thead>\n",
       "    <tr style=\"text-align: right;\">\n",
       "      <th></th>\n",
       "      <th>danceability</th>\n",
       "      <th>energy</th>\n",
       "      <th>loudness</th>\n",
       "      <th>speechiness</th>\n",
       "      <th>acousticness</th>\n",
       "      <th>liveness</th>\n",
       "      <th>valence</th>\n",
       "      <th>tempo</th>\n",
       "      <th>duration_ms</th>\n",
       "    </tr>\n",
       "    <tr>\n",
       "      <th>chart</th>\n",
       "      <th></th>\n",
       "      <th></th>\n",
       "      <th></th>\n",
       "      <th></th>\n",
       "      <th></th>\n",
       "      <th></th>\n",
       "      <th></th>\n",
       "      <th></th>\n",
       "      <th></th>\n",
       "    </tr>\n",
       "  </thead>\n",
       "  <tbody>\n",
       "    <tr>\n",
       "      <th>hot-100</th>\n",
       "      <td>0.62526</td>\n",
       "      <td>0.693454</td>\n",
       "      <td>-5.734784</td>\n",
       "      <td>0.070695</td>\n",
       "      <td>0.162313</td>\n",
       "      <td>0.171434</td>\n",
       "      <td>0.535053</td>\n",
       "      <td>115.675254</td>\n",
       "      <td>231351.314012</td>\n",
       "    </tr>\n",
       "    <tr>\n",
       "      <th>rap-song</th>\n",
       "      <td>0.72835</td>\n",
       "      <td>0.687125</td>\n",
       "      <td>-5.932117</td>\n",
       "      <td>0.208740</td>\n",
       "      <td>0.123311</td>\n",
       "      <td>0.200841</td>\n",
       "      <td>0.540185</td>\n",
       "      <td>114.064139</td>\n",
       "      <td>235498.656882</td>\n",
       "    </tr>\n",
       "  </tbody>\n",
       "</table>\n",
       "</div>"
      ],
      "text/plain": [
       "          danceability    energy  loudness  speechiness  acousticness  \\\n",
       "chart                                                                   \n",
       "hot-100        0.62526  0.693454 -5.734784     0.070695      0.162313   \n",
       "rap-song       0.72835  0.687125 -5.932117     0.208740      0.123311   \n",
       "\n",
       "          liveness   valence       tempo    duration_ms  \n",
       "chart                                                    \n",
       "hot-100   0.171434  0.535053  115.675254  231351.314012  \n",
       "rap-song  0.200841  0.540185  114.064139  235498.656882  "
      ]
     },
     "execution_count": 11,
     "metadata": {},
     "output_type": "execute_result"
    }
   ],
   "source": [
    "spotify_df.groupby('chart')[['danceability', 'energy', 'loudness', \n",
    "                             'speechiness', 'acousticness', 'liveness',  \n",
    "                             'valence', 'tempo', 'duration_ms']].mean()"
   ]
  },
  {
   "cell_type": "markdown",
   "metadata": {},
   "source": [
    "Distribution of categorical variables (key and mode)"
   ]
  },
  {
   "cell_type": "code",
   "execution_count": 12,
   "metadata": {},
   "outputs": [],
   "source": [
    "keycount_chart = spotify_df.groupby(['chart','key_full'])[['track']].count().reset_index(drop = False)\n",
    "keycount_chart.loc[keycount_chart.chart == 'hot-100', 'perc'] = keycount_chart.loc[keycount_chart.chart == 'hot-100', 'track'] / 1984\n",
    "keycount_chart.loc[keycount_chart.chart == 'rap-song', 'perc'] = keycount_chart.loc[keycount_chart.chart == 'rap-song', 'track'] / 1533"
   ]
  },
  {
   "cell_type": "code",
   "execution_count": 13,
   "metadata": {},
   "outputs": [
    {
     "data": {
      "text/plain": [
       "<matplotlib.legend.Legend at 0x1a254ca390>"
      ]
     },
     "execution_count": 13,
     "metadata": {},
     "output_type": "execute_result"
    },
    {
     "data": {
      "image/png": "[encoded data removed]",
      "text/plain": [
       "<Figure size 432x288 with 1 Axes>"
      ]
     },
     "metadata": {
      "needs_background": "light"
     },
     "output_type": "display_data"
    }
   ],
   "source": [
    "labels = keycount_chart.loc[keycount_chart.chart == 'hot-100', 'key_full']\n",
    "hot_100_perc = keycount_chart.loc[keycount_chart.chart == 'hot-100', 'perc']\n",
    "rap_song_perc = keycount_chart.loc[keycount_chart.chart == 'rap-song', 'perc']\n",
    "\n",
    "x = np.arange(len(labels))  # the label locations\n",
    "width = 0.35  # the width of the bars\n",
    "\n",
    "fig, ax = plt.subplots()\n",
    "rects1 = ax.bar(x - width/2, hot_100_perc, width, label='hot-100')\n",
    "rects2 = ax.bar(x + width/2, rap_song_perc, width, label='rap-song')\n",
    "\n",
    "ax.set_xticks(x)\n",
    "ax.set_xticklabels(labels)\n",
    "plt.xticks(rotation=90)\n",
    "ax.legend()"
   ]
  },
  {
   "cell_type": "markdown",
   "metadata": {},
   "source": [
    "Rap music much more popular in key of Db major and Bb minor. Hot 100 music more popular in A major, C major, and E major"
   ]
  },
  {
   "cell_type": "markdown",
   "metadata": {},
   "source": [
    "## Differences over time"
   ]
  },
  {
   "cell_type": "code",
   "execution_count": 14,
   "metadata": {},
   "outputs": [],
   "source": [
    "time_track = spotify_df.groupby(['chart', 'year'])[['danceability', 'energy', 'loudness', \n",
    "                             'speechiness', 'acousticness', 'liveness',  \n",
    "                             'valence', 'tempo', 'duration_ms']].mean().reset_index()"
   ]
  },
  {
   "cell_type": "code",
   "execution_count": 15,
   "metadata": {},
   "outputs": [],
   "source": [
    "def plot_year_trends(var, df):\n",
    "    \n",
    "    hot100 = df.loc[df.chart == 'hot-100']\n",
    "    rapsong = df.loc[df.chart == 'rap-song']\n",
    "    \n",
    "    fig, ax = plt.subplots()\n",
    "    ax.plot(hot100['year'], hot100[var], label='hot-100')\n",
    "    ax.plot(rapsong['year'], rapsong[var], label='rap-song')\n",
    "    ax.set_xlabel('Year')\n",
    "    ax.set_ylabel(var)\n",
    "    ax.legend() "
   ]
  },
  {
   "cell_type": "code",
   "execution_count": 16,
   "metadata": {},
   "outputs": [
    {
     "data": {
      "image/png": "[encoded data removed]",
      "text/plain": [
       "<Figure size 432x288 with 1 Axes>"
      ]
     },
     "metadata": {
      "needs_background": "light"
     },
     "output_type": "display_data"
    }
   ],
   "source": [
    "plot_year_trends('danceability', time_track)"
   ]
  },
  {
   "cell_type": "code",
   "execution_count": 20,
   "metadata": {},
   "outputs": [
    {
     "data": {
      "text/plain": [
       "Index(['artist', 'track', 'date', 'chart', 'spotify_query', 'danceability',\n",
       "       'energy', 'key', 'loudness', 'mode', 'speechiness', 'acousticness',\n",
       "       'instrumentalness', 'liveness', 'valence', 'tempo', 'type', 'id', 'uri',\n",
       "       'track_href', 'analysis_url', 'duration_ms', 'time_signature', 'year',\n",
       "       'key_name', 'mode_name', 'key_full'],\n",
       "      dtype='object')"
      ]
     },
     "execution_count": 20,
     "metadata": {},
     "output_type": "execute_result"
    }
   ],
   "source": [
    "spotify_df.columns"
   ]
  },
  {
   "cell_type": "code",
   "execution_count": 22,
   "metadata": {},
   "outputs": [
    {
     "data": {
      "text/html": [
       "<div>\n",
       "<style scoped>\n",
       "    .dataframe tbody tr th:only-of-type {\n",
       "        vertical-align: middle;\n",
       "    }\n",
       "\n",
       "    .dataframe tbody tr th {\n",
       "        vertical-align: top;\n",
       "    }\n",
       "\n",
       "    .dataframe thead th {\n",
       "        text-align: right;\n",
       "    }\n",
       "</style>\n",
       "<table border=\"1\" class=\"dataframe\">\n",
       "  <thead>\n",
       "    <tr style=\"text-align: right;\">\n",
       "      <th></th>\n",
       "      <th>artist</th>\n",
       "      <th>track</th>\n",
       "      <th>date</th>\n",
       "      <th>chart</th>\n",
       "      <th>spotify_query</th>\n",
       "      <th>danceability</th>\n",
       "      <th>energy</th>\n",
       "      <th>key</th>\n",
       "      <th>loudness</th>\n",
       "      <th>mode</th>\n",
       "      <th>...</th>\n",
       "      <th>id</th>\n",
       "      <th>uri</th>\n",
       "      <th>track_href</th>\n",
       "      <th>analysis_url</th>\n",
       "      <th>duration_ms</th>\n",
       "      <th>time_signature</th>\n",
       "      <th>year</th>\n",
       "      <th>key_name</th>\n",
       "      <th>mode_name</th>\n",
       "      <th>key_full</th>\n",
       "    </tr>\n",
       "  </thead>\n",
       "  <tbody>\n",
       "    <tr>\n",
       "      <th>759</th>\n",
       "      <td>Lil Wayne Featuring Cory Gunz</td>\n",
       "      <td>6 Foot 7 Foot</td>\n",
       "      <td>2011-06-01</td>\n",
       "      <td>rap-song</td>\n",
       "      <td>Lil+Wayne+6+Foot+7+Foot</td>\n",
       "      <td>0.365</td>\n",
       "      <td>0.751</td>\n",
       "      <td>2</td>\n",
       "      <td>-5.429</td>\n",
       "      <td>1</td>\n",
       "      <td>...</td>\n",
       "      <td>0z5ZPs57J2KERwM1tBM2GF</td>\n",
       "      <td>spotify:track:0z5ZPs57J2KERwM1tBM2GF</td>\n",
       "      <td>https://api.spotify.com/v1/tracks/0z5ZPs57J2KE...</td>\n",
       "      <td>https://api.spotify.com/v1/audio-analysis/0z5Z...</td>\n",
       "      <td>248587</td>\n",
       "      <td>4</td>\n",
       "      <td>2011</td>\n",
       "      <td>D</td>\n",
       "      <td>major</td>\n",
       "      <td>Dmajor</td>\n",
       "    </tr>\n",
       "    <tr>\n",
       "      <th>722</th>\n",
       "      <td>Meek Mill Featuring T.I., Birdman, Lil Wayne, ...</td>\n",
       "      <td>Ima Boss</td>\n",
       "      <td>2011-12-01</td>\n",
       "      <td>rap-song</td>\n",
       "      <td>Meek+Mill+Ima+Boss</td>\n",
       "      <td>0.370</td>\n",
       "      <td>0.870</td>\n",
       "      <td>5</td>\n",
       "      <td>-2.090</td>\n",
       "      <td>1</td>\n",
       "      <td>...</td>\n",
       "      <td>7sjwaBQ6M3aVigYfBjm1sL</td>\n",
       "      <td>spotify:track:7sjwaBQ6M3aVigYfBjm1sL</td>\n",
       "      <td>https://api.spotify.com/v1/tracks/7sjwaBQ6M3aV...</td>\n",
       "      <td>https://api.spotify.com/v1/audio-analysis/7sjw...</td>\n",
       "      <td>250240</td>\n",
       "      <td>4</td>\n",
       "      <td>2011</td>\n",
       "      <td>F</td>\n",
       "      <td>major</td>\n",
       "      <td>Fmajor</td>\n",
       "    </tr>\n",
       "    <tr>\n",
       "      <th>773</th>\n",
       "      <td>Lil Wayne Featuring Drake</td>\n",
       "      <td>Right Above It</td>\n",
       "      <td>2011-04-01</td>\n",
       "      <td>rap-song</td>\n",
       "      <td>Lil+Wayne+Right+Above+It</td>\n",
       "      <td>0.376</td>\n",
       "      <td>0.841</td>\n",
       "      <td>3</td>\n",
       "      <td>-4.348</td>\n",
       "      <td>0</td>\n",
       "      <td>...</td>\n",
       "      <td>1kMuU3TNQvHbqvXCWBodmP</td>\n",
       "      <td>spotify:track:1kMuU3TNQvHbqvXCWBodmP</td>\n",
       "      <td>https://api.spotify.com/v1/tracks/1kMuU3TNQvHb...</td>\n",
       "      <td>https://api.spotify.com/v1/audio-analysis/1kMu...</td>\n",
       "      <td>271947</td>\n",
       "      <td>4</td>\n",
       "      <td>2011</td>\n",
       "      <td>Eb</td>\n",
       "      <td>minor</td>\n",
       "      <td>Ebminor</td>\n",
       "    </tr>\n",
       "    <tr>\n",
       "      <th>780</th>\n",
       "      <td>Nicki Minaj</td>\n",
       "      <td>Right Thru Me</td>\n",
       "      <td>2011-02-01</td>\n",
       "      <td>rap-song</td>\n",
       "      <td>Nicki+Minaj+Right+Thru+Me</td>\n",
       "      <td>0.381</td>\n",
       "      <td>0.680</td>\n",
       "      <td>1</td>\n",
       "      <td>-4.724</td>\n",
       "      <td>1</td>\n",
       "      <td>...</td>\n",
       "      <td>180jaPAbXwB4nvtieXteYf</td>\n",
       "      <td>spotify:track:180jaPAbXwB4nvtieXteYf</td>\n",
       "      <td>https://api.spotify.com/v1/tracks/180jaPAbXwB4...</td>\n",
       "      <td>https://api.spotify.com/v1/audio-analysis/180j...</td>\n",
       "      <td>235773</td>\n",
       "      <td>3</td>\n",
       "      <td>2011</td>\n",
       "      <td>Db</td>\n",
       "      <td>major</td>\n",
       "      <td>Dbmajor</td>\n",
       "    </tr>\n",
       "    <tr>\n",
       "      <th>726</th>\n",
       "      <td>Big Sean Featuring Chris Brown</td>\n",
       "      <td>My Last</td>\n",
       "      <td>2011-11-01</td>\n",
       "      <td>rap-song</td>\n",
       "      <td>Big+Sean+My+Last</td>\n",
       "      <td>0.387</td>\n",
       "      <td>0.773</td>\n",
       "      <td>8</td>\n",
       "      <td>-5.685</td>\n",
       "      <td>1</td>\n",
       "      <td>...</td>\n",
       "      <td>70tFuqBcduJv15bEnOPRTh</td>\n",
       "      <td>spotify:track:70tFuqBcduJv15bEnOPRTh</td>\n",
       "      <td>https://api.spotify.com/v1/tracks/70tFuqBcduJv...</td>\n",
       "      <td>https://api.spotify.com/v1/audio-analysis/70tF...</td>\n",
       "      <td>254120</td>\n",
       "      <td>4</td>\n",
       "      <td>2011</td>\n",
       "      <td>Ab</td>\n",
       "      <td>major</td>\n",
       "      <td>Abmajor</td>\n",
       "    </tr>\n",
       "    <tr>\n",
       "      <th>766</th>\n",
       "      <td>Diddy - Dirty Money Featuring Skylar Grey</td>\n",
       "      <td>Coming Home</td>\n",
       "      <td>2011-05-01</td>\n",
       "      <td>rap-song</td>\n",
       "      <td>Diddy+-+Dirty+Money+Coming+Home</td>\n",
       "      <td>0.392</td>\n",
       "      <td>0.839</td>\n",
       "      <td>7</td>\n",
       "      <td>-1.921</td>\n",
       "      <td>1</td>\n",
       "      <td>...</td>\n",
       "      <td>6Iocm6VMu6bVNYwiDoyQFW</td>\n",
       "      <td>spotify:track:6Iocm6VMu6bVNYwiDoyQFW</td>\n",
       "      <td>https://api.spotify.com/v1/tracks/6Iocm6VMu6bV...</td>\n",
       "      <td>https://api.spotify.com/v1/audio-analysis/6Ioc...</td>\n",
       "      <td>238693</td>\n",
       "      <td>4</td>\n",
       "      <td>2011</td>\n",
       "      <td>G</td>\n",
       "      <td>major</td>\n",
       "      <td>Gmajor</td>\n",
       "    </tr>\n",
       "    <tr>\n",
       "      <th>717</th>\n",
       "      <td>DJ Khaled Featuring Drake, Rick Ross &amp; Lil Wayne</td>\n",
       "      <td>I'm On One</td>\n",
       "      <td>2011-12-01</td>\n",
       "      <td>rap-song</td>\n",
       "      <td>DJ+Khaled+I'm+On+One</td>\n",
       "      <td>0.413</td>\n",
       "      <td>0.807</td>\n",
       "      <td>11</td>\n",
       "      <td>-3.499</td>\n",
       "      <td>0</td>\n",
       "      <td>...</td>\n",
       "      <td>608a1wIsSd5KzMEqm1O7w3</td>\n",
       "      <td>spotify:track:608a1wIsSd5KzMEqm1O7w3</td>\n",
       "      <td>https://api.spotify.com/v1/tracks/608a1wIsSd5K...</td>\n",
       "      <td>https://api.spotify.com/v1/audio-analysis/608a...</td>\n",
       "      <td>296147</td>\n",
       "      <td>4</td>\n",
       "      <td>2011</td>\n",
       "      <td>B</td>\n",
       "      <td>minor</td>\n",
       "      <td>Bminor</td>\n",
       "    </tr>\n",
       "    <tr>\n",
       "      <th>779</th>\n",
       "      <td>Far*East Movement Featuring Cataracs &amp; Dev</td>\n",
       "      <td>Like A G6</td>\n",
       "      <td>2011-02-01</td>\n",
       "      <td>rap-song</td>\n",
       "      <td>Far*East+Movement+Like+A+G6</td>\n",
       "      <td>0.435</td>\n",
       "      <td>0.837</td>\n",
       "      <td>3</td>\n",
       "      <td>-8.126</td>\n",
       "      <td>1</td>\n",
       "      <td>...</td>\n",
       "      <td>4DvhkX2ic4zWkQeWMwQ2qf</td>\n",
       "      <td>spotify:track:4DvhkX2ic4zWkQeWMwQ2qf</td>\n",
       "      <td>https://api.spotify.com/v1/tracks/4DvhkX2ic4zW...</td>\n",
       "      <td>https://api.spotify.com/v1/audio-analysis/4Dvh...</td>\n",
       "      <td>216893</td>\n",
       "      <td>4</td>\n",
       "      <td>2011</td>\n",
       "      <td>Eb</td>\n",
       "      <td>major</td>\n",
       "      <td>Ebmajor</td>\n",
       "    </tr>\n",
       "    <tr>\n",
       "      <th>774</th>\n",
       "      <td>Dr. Dre Featuring Snoop Dogg &amp; Akon</td>\n",
       "      <td>Kush</td>\n",
       "      <td>2011-04-01</td>\n",
       "      <td>rap-song</td>\n",
       "      <td>Dr.+Dre+Kush</td>\n",
       "      <td>0.444</td>\n",
       "      <td>0.866</td>\n",
       "      <td>7</td>\n",
       "      <td>-6.217</td>\n",
       "      <td>1</td>\n",
       "      <td>...</td>\n",
       "      <td>1U8Ho1nOzKXYDvfigOuHG4</td>\n",
       "      <td>spotify:track:1U8Ho1nOzKXYDvfigOuHG4</td>\n",
       "      <td>https://api.spotify.com/v1/tracks/1U8Ho1nOzKXY...</td>\n",
       "      <td>https://api.spotify.com/v1/audio-analysis/1U8H...</td>\n",
       "      <td>235120</td>\n",
       "      <td>4</td>\n",
       "      <td>2011</td>\n",
       "      <td>G</td>\n",
       "      <td>major</td>\n",
       "      <td>Gmajor</td>\n",
       "    </tr>\n",
       "    <tr>\n",
       "      <th>789</th>\n",
       "      <td>Eminem Featuring Lil Wayne</td>\n",
       "      <td>No Love</td>\n",
       "      <td>2011-01-01</td>\n",
       "      <td>rap-song</td>\n",
       "      <td>Eminem+No+Love</td>\n",
       "      <td>0.522</td>\n",
       "      <td>0.932</td>\n",
       "      <td>11</td>\n",
       "      <td>-2.870</td>\n",
       "      <td>1</td>\n",
       "      <td>...</td>\n",
       "      <td>7bHT9osSq1rwT2yaImzqCi</td>\n",
       "      <td>spotify:track:7bHT9osSq1rwT2yaImzqCi</td>\n",
       "      <td>https://api.spotify.com/v1/tracks/7bHT9osSq1rw...</td>\n",
       "      <td>https://api.spotify.com/v1/audio-analysis/7bHT...</td>\n",
       "      <td>299507</td>\n",
       "      <td>4</td>\n",
       "      <td>2011</td>\n",
       "      <td>B</td>\n",
       "      <td>major</td>\n",
       "      <td>Bmajor</td>\n",
       "    </tr>\n",
       "    <tr>\n",
       "      <th>747</th>\n",
       "      <td>Wiz Khalifa</td>\n",
       "      <td>Roll Up</td>\n",
       "      <td>2011-08-01</td>\n",
       "      <td>rap-song</td>\n",
       "      <td>Wiz+Khalifa+Roll+Up</td>\n",
       "      <td>0.523</td>\n",
       "      <td>0.805</td>\n",
       "      <td>3</td>\n",
       "      <td>-5.473</td>\n",
       "      <td>1</td>\n",
       "      <td>...</td>\n",
       "      <td>53DB6LJV9B8sz0p1s6tlGS</td>\n",
       "      <td>spotify:track:53DB6LJV9B8sz0p1s6tlGS</td>\n",
       "      <td>https://api.spotify.com/v1/tracks/53DB6LJV9B8s...</td>\n",
       "      <td>https://api.spotify.com/v1/audio-analysis/53DB...</td>\n",
       "      <td>227773</td>\n",
       "      <td>5</td>\n",
       "      <td>2011</td>\n",
       "      <td>Eb</td>\n",
       "      <td>major</td>\n",
       "      <td>Ebmajor</td>\n",
       "    </tr>\n",
       "    <tr>\n",
       "      <th>778</th>\n",
       "      <td>Drake Featuring T.I. &amp; Swizz Beatz</td>\n",
       "      <td>Fancy</td>\n",
       "      <td>2011-03-01</td>\n",
       "      <td>rap-song</td>\n",
       "      <td>Drake+Fancy</td>\n",
       "      <td>0.530</td>\n",
       "      <td>0.884</td>\n",
       "      <td>0</td>\n",
       "      <td>-5.581</td>\n",
       "      <td>0</td>\n",
       "      <td>...</td>\n",
       "      <td>3fpTMuD1u3gJlVI4FadVHs</td>\n",
       "      <td>spotify:track:3fpTMuD1u3gJlVI4FadVHs</td>\n",
       "      <td>https://api.spotify.com/v1/tracks/3fpTMuD1u3gJ...</td>\n",
       "      <td>https://api.spotify.com/v1/audio-analysis/3fpT...</td>\n",
       "      <td>319387</td>\n",
       "      <td>4</td>\n",
       "      <td>2011</td>\n",
       "      <td>C</td>\n",
       "      <td>minor</td>\n",
       "      <td>Cminor</td>\n",
       "    </tr>\n",
       "    <tr>\n",
       "      <th>781</th>\n",
       "      <td>Nelly</td>\n",
       "      <td>Just A Dream</td>\n",
       "      <td>2011-02-01</td>\n",
       "      <td>rap-song</td>\n",
       "      <td>Nelly+Just+A+Dream</td>\n",
       "      <td>0.531</td>\n",
       "      <td>0.752</td>\n",
       "      <td>1</td>\n",
       "      <td>-6.161</td>\n",
       "      <td>1</td>\n",
       "      <td>...</td>\n",
       "      <td>3ZdJffjzJWFimSQyxgGIxN</td>\n",
       "      <td>spotify:track:3ZdJffjzJWFimSQyxgGIxN</td>\n",
       "      <td>https://api.spotify.com/v1/tracks/3ZdJffjzJWFi...</td>\n",
       "      <td>https://api.spotify.com/v1/audio-analysis/3ZdJ...</td>\n",
       "      <td>237800</td>\n",
       "      <td>4</td>\n",
       "      <td>2011</td>\n",
       "      <td>Db</td>\n",
       "      <td>major</td>\n",
       "      <td>Dbmajor</td>\n",
       "    </tr>\n",
       "    <tr>\n",
       "      <th>748</th>\n",
       "      <td>Young Jeezy Featuring Lil Wayne</td>\n",
       "      <td>Ballin'</td>\n",
       "      <td>2011-08-01</td>\n",
       "      <td>rap-song</td>\n",
       "      <td>Young+Jeezy+Ballin'</td>\n",
       "      <td>0.531</td>\n",
       "      <td>0.791</td>\n",
       "      <td>3</td>\n",
       "      <td>-4.681</td>\n",
       "      <td>0</td>\n",
       "      <td>...</td>\n",
       "      <td>79tbwF4mSrYD60Oo41JTXY</td>\n",
       "      <td>spotify:track:79tbwF4mSrYD60Oo41JTXY</td>\n",
       "      <td>https://api.spotify.com/v1/tracks/79tbwF4mSrYD...</td>\n",
       "      <td>https://api.spotify.com/v1/audio-analysis/79tb...</td>\n",
       "      <td>283173</td>\n",
       "      <td>4</td>\n",
       "      <td>2011</td>\n",
       "      <td>Eb</td>\n",
       "      <td>minor</td>\n",
       "      <td>Ebminor</td>\n",
       "    </tr>\n",
       "    <tr>\n",
       "      <th>740</th>\n",
       "      <td>Kanye West</td>\n",
       "      <td>All Of The Lights</td>\n",
       "      <td>2011-09-01</td>\n",
       "      <td>rap-song</td>\n",
       "      <td>Kanye+West+All+Of+The+Lights</td>\n",
       "      <td>0.541</td>\n",
       "      <td>0.803</td>\n",
       "      <td>1</td>\n",
       "      <td>-3.284</td>\n",
       "      <td>1</td>\n",
       "      <td>...</td>\n",
       "      <td>22L7bfCiAkJo5xGSQgmiIO</td>\n",
       "      <td>spotify:track:22L7bfCiAkJo5xGSQgmiIO</td>\n",
       "      <td>https://api.spotify.com/v1/tracks/22L7bfCiAkJo...</td>\n",
       "      <td>https://api.spotify.com/v1/audio-analysis/22L7...</td>\n",
       "      <td>299613</td>\n",
       "      <td>4</td>\n",
       "      <td>2011</td>\n",
       "      <td>Db</td>\n",
       "      <td>major</td>\n",
       "      <td>Dbmajor</td>\n",
       "    </tr>\n",
       "    <tr>\n",
       "      <th>787</th>\n",
       "      <td>T.I. Featuring Chris Brown</td>\n",
       "      <td>Get Back Up</td>\n",
       "      <td>2011-01-01</td>\n",
       "      <td>rap-song</td>\n",
       "      <td>T.I.+Get+Back+Up</td>\n",
       "      <td>0.556</td>\n",
       "      <td>0.699</td>\n",
       "      <td>7</td>\n",
       "      <td>-6.264</td>\n",
       "      <td>1</td>\n",
       "      <td>...</td>\n",
       "      <td>0yJpq0T48tKm6YPfSx2qnu</td>\n",
       "      <td>spotify:track:0yJpq0T48tKm6YPfSx2qnu</td>\n",
       "      <td>https://api.spotify.com/v1/tracks/0yJpq0T48tKm...</td>\n",
       "      <td>https://api.spotify.com/v1/audio-analysis/0yJp...</td>\n",
       "      <td>264200</td>\n",
       "      <td>4</td>\n",
       "      <td>2011</td>\n",
       "      <td>G</td>\n",
       "      <td>major</td>\n",
       "      <td>Gmajor</td>\n",
       "    </tr>\n",
       "    <tr>\n",
       "      <th>760</th>\n",
       "      <td>Lloyd Banks Featuring Jeremih</td>\n",
       "      <td>I Don't Deserve You</td>\n",
       "      <td>2011-06-01</td>\n",
       "      <td>rap-song</td>\n",
       "      <td>Lloyd+Banks+I+Don't+Deserve+You</td>\n",
       "      <td>0.556</td>\n",
       "      <td>0.856</td>\n",
       "      <td>1</td>\n",
       "      <td>-5.761</td>\n",
       "      <td>1</td>\n",
       "      <td>...</td>\n",
       "      <td>4PxcUUvlqkMeRf0IScu5ya</td>\n",
       "      <td>spotify:track:4PxcUUvlqkMeRf0IScu5ya</td>\n",
       "      <td>https://api.spotify.com/v1/tracks/4PxcUUvlqkMe...</td>\n",
       "      <td>https://api.spotify.com/v1/audio-analysis/4Pxc...</td>\n",
       "      <td>232133</td>\n",
       "      <td>4</td>\n",
       "      <td>2011</td>\n",
       "      <td>Db</td>\n",
       "      <td>major</td>\n",
       "      <td>Dbmajor</td>\n",
       "    </tr>\n",
       "    <tr>\n",
       "      <th>769</th>\n",
       "      <td>Rick Ross Featuring Drake &amp; Chrisette Michele</td>\n",
       "      <td>Aston Martin Music</td>\n",
       "      <td>2011-04-01</td>\n",
       "      <td>rap-song</td>\n",
       "      <td>Rick+Ross+Aston+Martin+Music</td>\n",
       "      <td>0.570</td>\n",
       "      <td>0.580</td>\n",
       "      <td>10</td>\n",
       "      <td>-5.547</td>\n",
       "      <td>0</td>\n",
       "      <td>...</td>\n",
       "      <td>5W7xC99N2Zzfh69r7I7zWK</td>\n",
       "      <td>spotify:track:5W7xC99N2Zzfh69r7I7zWK</td>\n",
       "      <td>https://api.spotify.com/v1/tracks/5W7xC99N2Zzf...</td>\n",
       "      <td>https://api.spotify.com/v1/audio-analysis/5W7x...</td>\n",
       "      <td>270627</td>\n",
       "      <td>4</td>\n",
       "      <td>2011</td>\n",
       "      <td>Bb</td>\n",
       "      <td>minor</td>\n",
       "      <td>Bbminor</td>\n",
       "    </tr>\n",
       "    <tr>\n",
       "      <th>788</th>\n",
       "      <td>Kanye West Featuring Pusha T</td>\n",
       "      <td>Runaway</td>\n",
       "      <td>2011-01-01</td>\n",
       "      <td>rap-song</td>\n",
       "      <td>Kanye+West+Runaway</td>\n",
       "      <td>0.571</td>\n",
       "      <td>0.568</td>\n",
       "      <td>1</td>\n",
       "      <td>-3.827</td>\n",
       "      <td>0</td>\n",
       "      <td>...</td>\n",
       "      <td>3DK6m7It6Pw857FcQftMds</td>\n",
       "      <td>spotify:track:3DK6m7It6Pw857FcQftMds</td>\n",
       "      <td>https://api.spotify.com/v1/tracks/3DK6m7It6Pw8...</td>\n",
       "      <td>https://api.spotify.com/v1/audio-analysis/3DK6...</td>\n",
       "      <td>547733</td>\n",
       "      <td>4</td>\n",
       "      <td>2011</td>\n",
       "      <td>Db</td>\n",
       "      <td>minor</td>\n",
       "      <td>Dbminor</td>\n",
       "    </tr>\n",
       "    <tr>\n",
       "      <th>727</th>\n",
       "      <td>New Boyz Featuring Chris Brown</td>\n",
       "      <td>Better With The Lights Off</td>\n",
       "      <td>2011-11-01</td>\n",
       "      <td>rap-song</td>\n",
       "      <td>New+Boyz+Better+With+The+Lights+Off</td>\n",
       "      <td>0.573</td>\n",
       "      <td>0.848</td>\n",
       "      <td>7</td>\n",
       "      <td>-2.742</td>\n",
       "      <td>1</td>\n",
       "      <td>...</td>\n",
       "      <td>3wCSVS7KM9CIIHrChpabQ3</td>\n",
       "      <td>spotify:track:3wCSVS7KM9CIIHrChpabQ3</td>\n",
       "      <td>https://api.spotify.com/v1/tracks/3wCSVS7KM9CI...</td>\n",
       "      <td>https://api.spotify.com/v1/audio-analysis/3wCS...</td>\n",
       "      <td>219080</td>\n",
       "      <td>4</td>\n",
       "      <td>2011</td>\n",
       "      <td>G</td>\n",
       "      <td>major</td>\n",
       "      <td>Gmajor</td>\n",
       "    </tr>\n",
       "  </tbody>\n",
       "</table>\n",
       "<p>20 rows × 27 columns</p>\n",
       "</div>"
      ],
      "text/plain": [
       "                                                artist  \\\n",
       "759                      Lil Wayne Featuring Cory Gunz   \n",
       "722  Meek Mill Featuring T.I., Birdman, Lil Wayne, ...   \n",
       "773                          Lil Wayne Featuring Drake   \n",
       "780                                        Nicki Minaj   \n",
       "726                     Big Sean Featuring Chris Brown   \n",
       "766          Diddy - Dirty Money Featuring Skylar Grey   \n",
       "717   DJ Khaled Featuring Drake, Rick Ross & Lil Wayne   \n",
       "779         Far*East Movement Featuring Cataracs & Dev   \n",
       "774                Dr. Dre Featuring Snoop Dogg & Akon   \n",
       "789                         Eminem Featuring Lil Wayne   \n",
       "747                                        Wiz Khalifa   \n",
       "778                 Drake Featuring T.I. & Swizz Beatz   \n",
       "781                                              Nelly   \n",
       "748                    Young Jeezy Featuring Lil Wayne   \n",
       "740                                         Kanye West   \n",
       "787                         T.I. Featuring Chris Brown   \n",
       "760                      Lloyd Banks Featuring Jeremih   \n",
       "769      Rick Ross Featuring Drake & Chrisette Michele   \n",
       "788                       Kanye West Featuring Pusha T   \n",
       "727                     New Boyz Featuring Chris Brown   \n",
       "\n",
       "                          track        date     chart  \\\n",
       "759               6 Foot 7 Foot  2011-06-01  rap-song   \n",
       "722                    Ima Boss  2011-12-01  rap-song   \n",
       "773              Right Above It  2011-04-01  rap-song   \n",
       "780               Right Thru Me  2011-02-01  rap-song   \n",
       "726                     My Last  2011-11-01  rap-song   \n",
       "766                 Coming Home  2011-05-01  rap-song   \n",
       "717                  I'm On One  2011-12-01  rap-song   \n",
       "779                   Like A G6  2011-02-01  rap-song   \n",
       "774                        Kush  2011-04-01  rap-song   \n",
       "789                     No Love  2011-01-01  rap-song   \n",
       "747                     Roll Up  2011-08-01  rap-song   \n",
       "778                       Fancy  2011-03-01  rap-song   \n",
       "781                Just A Dream  2011-02-01  rap-song   \n",
       "748                     Ballin'  2011-08-01  rap-song   \n",
       "740           All Of The Lights  2011-09-01  rap-song   \n",
       "787                 Get Back Up  2011-01-01  rap-song   \n",
       "760         I Don't Deserve You  2011-06-01  rap-song   \n",
       "769          Aston Martin Music  2011-04-01  rap-song   \n",
       "788                     Runaway  2011-01-01  rap-song   \n",
       "727  Better With The Lights Off  2011-11-01  rap-song   \n",
       "\n",
       "                           spotify_query  danceability  energy  key  loudness  \\\n",
       "759              Lil+Wayne+6+Foot+7+Foot         0.365   0.751    2    -5.429   \n",
       "722                   Meek+Mill+Ima+Boss         0.370   0.870    5    -2.090   \n",
       "773             Lil+Wayne+Right+Above+It         0.376   0.841    3    -4.348   \n",
       "780            Nicki+Minaj+Right+Thru+Me         0.381   0.680    1    -4.724   \n",
       "726                     Big+Sean+My+Last         0.387   0.773    8    -5.685   \n",
       "766      Diddy+-+Dirty+Money+Coming+Home         0.392   0.839    7    -1.921   \n",
       "717                 DJ+Khaled+I'm+On+One         0.413   0.807   11    -3.499   \n",
       "779          Far*East+Movement+Like+A+G6         0.435   0.837    3    -8.126   \n",
       "774                         Dr.+Dre+Kush         0.444   0.866    7    -6.217   \n",
       "789                       Eminem+No+Love         0.522   0.932   11    -2.870   \n",
       "747                  Wiz+Khalifa+Roll+Up         0.523   0.805    3    -5.473   \n",
       "778                          Drake+Fancy         0.530   0.884    0    -5.581   \n",
       "781                   Nelly+Just+A+Dream         0.531   0.752    1    -6.161   \n",
       "748                  Young+Jeezy+Ballin'         0.531   0.791    3    -4.681   \n",
       "740         Kanye+West+All+Of+The+Lights         0.541   0.803    1    -3.284   \n",
       "787                     T.I.+Get+Back+Up         0.556   0.699    7    -6.264   \n",
       "760      Lloyd+Banks+I+Don't+Deserve+You         0.556   0.856    1    -5.761   \n",
       "769         Rick+Ross+Aston+Martin+Music         0.570   0.580   10    -5.547   \n",
       "788                   Kanye+West+Runaway         0.571   0.568    1    -3.827   \n",
       "727  New+Boyz+Better+With+The+Lights+Off         0.573   0.848    7    -2.742   \n",
       "\n",
       "     mode  ...                      id                                   uri  \\\n",
       "759     1  ...  0z5ZPs57J2KERwM1tBM2GF  spotify:track:0z5ZPs57J2KERwM1tBM2GF   \n",
       "722     1  ...  7sjwaBQ6M3aVigYfBjm1sL  spotify:track:7sjwaBQ6M3aVigYfBjm1sL   \n",
       "773     0  ...  1kMuU3TNQvHbqvXCWBodmP  spotify:track:1kMuU3TNQvHbqvXCWBodmP   \n",
       "780     1  ...  180jaPAbXwB4nvtieXteYf  spotify:track:180jaPAbXwB4nvtieXteYf   \n",
       "726     1  ...  70tFuqBcduJv15bEnOPRTh  spotify:track:70tFuqBcduJv15bEnOPRTh   \n",
       "766     1  ...  6Iocm6VMu6bVNYwiDoyQFW  spotify:track:6Iocm6VMu6bVNYwiDoyQFW   \n",
       "717     0  ...  608a1wIsSd5KzMEqm1O7w3  spotify:track:608a1wIsSd5KzMEqm1O7w3   \n",
       "779     1  ...  4DvhkX2ic4zWkQeWMwQ2qf  spotify:track:4DvhkX2ic4zWkQeWMwQ2qf   \n",
       "774     1  ...  1U8Ho1nOzKXYDvfigOuHG4  spotify:track:1U8Ho1nOzKXYDvfigOuHG4   \n",
       "789     1  ...  7bHT9osSq1rwT2yaImzqCi  spotify:track:7bHT9osSq1rwT2yaImzqCi   \n",
       "747     1  ...  53DB6LJV9B8sz0p1s6tlGS  spotify:track:53DB6LJV9B8sz0p1s6tlGS   \n",
       "778     0  ...  3fpTMuD1u3gJlVI4FadVHs  spotify:track:3fpTMuD1u3gJlVI4FadVHs   \n",
       "781     1  ...  3ZdJffjzJWFimSQyxgGIxN  spotify:track:3ZdJffjzJWFimSQyxgGIxN   \n",
       "748     0  ...  79tbwF4mSrYD60Oo41JTXY  spotify:track:79tbwF4mSrYD60Oo41JTXY   \n",
       "740     1  ...  22L7bfCiAkJo5xGSQgmiIO  spotify:track:22L7bfCiAkJo5xGSQgmiIO   \n",
       "787     1  ...  0yJpq0T48tKm6YPfSx2qnu  spotify:track:0yJpq0T48tKm6YPfSx2qnu   \n",
       "760     1  ...  4PxcUUvlqkMeRf0IScu5ya  spotify:track:4PxcUUvlqkMeRf0IScu5ya   \n",
       "769     0  ...  5W7xC99N2Zzfh69r7I7zWK  spotify:track:5W7xC99N2Zzfh69r7I7zWK   \n",
       "788     0  ...  3DK6m7It6Pw857FcQftMds  spotify:track:3DK6m7It6Pw857FcQftMds   \n",
       "727     1  ...  3wCSVS7KM9CIIHrChpabQ3  spotify:track:3wCSVS7KM9CIIHrChpabQ3   \n",
       "\n",
       "                                            track_href  \\\n",
       "759  https://api.spotify.com/v1/tracks/0z5ZPs57J2KE...   \n",
       "722  https://api.spotify.com/v1/tracks/7sjwaBQ6M3aV...   \n",
       "773  https://api.spotify.com/v1/tracks/1kMuU3TNQvHb...   \n",
       "780  https://api.spotify.com/v1/tracks/180jaPAbXwB4...   \n",
       "726  https://api.spotify.com/v1/tracks/70tFuqBcduJv...   \n",
       "766  https://api.spotify.com/v1/tracks/6Iocm6VMu6bV...   \n",
       "717  https://api.spotify.com/v1/tracks/608a1wIsSd5K...   \n",
       "779  https://api.spotify.com/v1/tracks/4DvhkX2ic4zW...   \n",
       "774  https://api.spotify.com/v1/tracks/1U8Ho1nOzKXY...   \n",
       "789  https://api.spotify.com/v1/tracks/7bHT9osSq1rw...   \n",
       "747  https://api.spotify.com/v1/tracks/53DB6LJV9B8s...   \n",
       "778  https://api.spotify.com/v1/tracks/3fpTMuD1u3gJ...   \n",
       "781  https://api.spotify.com/v1/tracks/3ZdJffjzJWFi...   \n",
       "748  https://api.spotify.com/v1/tracks/79tbwF4mSrYD...   \n",
       "740  https://api.spotify.com/v1/tracks/22L7bfCiAkJo...   \n",
       "787  https://api.spotify.com/v1/tracks/0yJpq0T48tKm...   \n",
       "760  https://api.spotify.com/v1/tracks/4PxcUUvlqkMe...   \n",
       "769  https://api.spotify.com/v1/tracks/5W7xC99N2Zzf...   \n",
       "788  https://api.spotify.com/v1/tracks/3DK6m7It6Pw8...   \n",
       "727  https://api.spotify.com/v1/tracks/3wCSVS7KM9CI...   \n",
       "\n",
       "                                          analysis_url  duration_ms  \\\n",
       "759  https://api.spotify.com/v1/audio-analysis/0z5Z...       248587   \n",
       "722  https://api.spotify.com/v1/audio-analysis/7sjw...       250240   \n",
       "773  https://api.spotify.com/v1/audio-analysis/1kMu...       271947   \n",
       "780  https://api.spotify.com/v1/audio-analysis/180j...       235773   \n",
       "726  https://api.spotify.com/v1/audio-analysis/70tF...       254120   \n",
       "766  https://api.spotify.com/v1/audio-analysis/6Ioc...       238693   \n",
       "717  https://api.spotify.com/v1/audio-analysis/608a...       296147   \n",
       "779  https://api.spotify.com/v1/audio-analysis/4Dvh...       216893   \n",
       "774  https://api.spotify.com/v1/audio-analysis/1U8H...       235120   \n",
       "789  https://api.spotify.com/v1/audio-analysis/7bHT...       299507   \n",
       "747  https://api.spotify.com/v1/audio-analysis/53DB...       227773   \n",
       "778  https://api.spotify.com/v1/audio-analysis/3fpT...       319387   \n",
       "781  https://api.spotify.com/v1/audio-analysis/3ZdJ...       237800   \n",
       "748  https://api.spotify.com/v1/audio-analysis/79tb...       283173   \n",
       "740  https://api.spotify.com/v1/audio-analysis/22L7...       299613   \n",
       "787  https://api.spotify.com/v1/audio-analysis/0yJp...       264200   \n",
       "760  https://api.spotify.com/v1/audio-analysis/4Pxc...       232133   \n",
       "769  https://api.spotify.com/v1/audio-analysis/5W7x...       270627   \n",
       "788  https://api.spotify.com/v1/audio-analysis/3DK6...       547733   \n",
       "727  https://api.spotify.com/v1/audio-analysis/3wCS...       219080   \n",
       "\n",
       "     time_signature  year key_name mode_name key_full  \n",
       "759               4  2011        D     major   Dmajor  \n",
       "722               4  2011        F     major   Fmajor  \n",
       "773               4  2011       Eb     minor  Ebminor  \n",
       "780               3  2011       Db     major  Dbmajor  \n",
       "726               4  2011       Ab     major  Abmajor  \n",
       "766               4  2011        G     major   Gmajor  \n",
       "717               4  2011        B     minor   Bminor  \n",
       "779               4  2011       Eb     major  Ebmajor  \n",
       "774               4  2011        G     major   Gmajor  \n",
       "789               4  2011        B     major   Bmajor  \n",
       "747               5  2011       Eb     major  Ebmajor  \n",
       "778               4  2011        C     minor   Cminor  \n",
       "781               4  2011       Db     major  Dbmajor  \n",
       "748               4  2011       Eb     minor  Ebminor  \n",
       "740               4  2011       Db     major  Dbmajor  \n",
       "787               4  2011        G     major   Gmajor  \n",
       "760               4  2011       Db     major  Dbmajor  \n",
       "769               4  2011       Bb     minor  Bbminor  \n",
       "788               4  2011       Db     minor  Dbminor  \n",
       "727               4  2011        G     major   Gmajor  \n",
       "\n",
       "[20 rows x 27 columns]"
      ]
     },
     "execution_count": 22,
     "metadata": {},
     "output_type": "execute_result"
    }
   ],
   "source": [
    "spotify_df[(spotify_df.year == 2011) & (spotify_df.chart == 'rap-song')].sort_values(by = 'danceability').head(20)"
   ]
  },
  {
   "cell_type": "markdown",
   "metadata": {},
   "source": [
    "Rap songs have consistently been more danceable compared to hot-100, except a drop from 2005 to 2014"
   ]
  },
  {
   "cell_type": "code",
   "execution_count": 94,
   "metadata": {},
   "outputs": [
    {
     "data": {
      "image/png": "[encoded data removed]",
      "text/plain": [
       "<Figure size 432x288 with 1 Axes>"
      ]
     },
     "metadata": {
      "needs_background": "light"
     },
     "output_type": "display_data"
    }
   ],
   "source": [
    "plot_year_trends('energy', time_track)"
   ]
  },
  {
   "cell_type": "markdown",
   "metadata": {},
   "source": [
    "Energy pretty consistent throughout the years"
   ]
  },
  {
   "cell_type": "code",
   "execution_count": 96,
   "metadata": {},
   "outputs": [
    {
     "data": {
      "image/png": "[encoded data removed]",
      "text/plain": [
       "<Figure size 432x288 with 1 Axes>"
      ]
     },
     "metadata": {
      "needs_background": "light"
     },
     "output_type": "display_data"
    }
   ],
   "source": [
    "plot_year_trends('loudness', time_track)"
   ]
  },
  {
   "cell_type": "markdown",
   "metadata": {},
   "source": [
    "Rap songs much louder in the early 2000's, then consistently quieter later on"
   ]
  },
  {
   "cell_type": "code",
   "execution_count": 97,
   "metadata": {},
   "outputs": [
    {
     "data": {
      "image/png": "[encoded data removed]",
      "text/plain": [
       "<Figure size 432x288 with 1 Axes>"
      ]
     },
     "metadata": {
      "needs_background": "light"
     },
     "output_type": "display_data"
    }
   ],
   "source": [
    "plot_year_trends('speechiness', time_track)"
   ]
  },
  {
   "cell_type": "markdown",
   "metadata": {},
   "source": [
    "To no surprise, rap songs have more spoken words"
   ]
  },
  {
   "cell_type": "code",
   "execution_count": 98,
   "metadata": {},
   "outputs": [
    {
     "data": {
      "image/png": "[encoded data removed]",
      "text/plain": [
       "<Figure size 432x288 with 1 Axes>"
      ]
     },
     "metadata": {
      "needs_background": "light"
     },
     "output_type": "display_data"
    }
   ],
   "source": [
    "plot_year_trends('acousticness', time_track)"
   ]
  },
  {
   "cell_type": "markdown",
   "metadata": {},
   "source": [
    "Rap songs have mostly been less acoustic than other songs"
   ]
  },
  {
   "cell_type": "code",
   "execution_count": 99,
   "metadata": {},
   "outputs": [
    {
     "data": {
      "image/png": "[encoded data removed]",
      "text/plain": [
       "<Figure size 432x288 with 1 Axes>"
      ]
     },
     "metadata": {
      "needs_background": "light"
     },
     "output_type": "display_data"
    }
   ],
   "source": [
    "plot_year_trends('liveness', time_track)"
   ]
  },
  {
   "cell_type": "markdown",
   "metadata": {},
   "source": [
    "Rap songs sounds like they're performed live more than other types of music"
   ]
  },
  {
   "cell_type": "code",
   "execution_count": 100,
   "metadata": {},
   "outputs": [
    {
     "data": {
      "image/png": "[encoded data removed]",
      "text/plain": [
       "<Figure size 432x288 with 1 Axes>"
      ]
     },
     "metadata": {
      "needs_background": "light"
     },
     "output_type": "display_data"
    }
   ],
   "source": [
    "plot_year_trends('valence', time_track)"
   ]
  },
  {
   "cell_type": "markdown",
   "metadata": {},
   "source": [
    "There has been a decrease in valence for rap music over the years"
   ]
  },
  {
   "cell_type": "code",
   "execution_count": 101,
   "metadata": {},
   "outputs": [
    {
     "data": {
      "image/png": "[encoded data removed]",
      "text/plain": [
       "<Figure size 432x288 with 1 Axes>"
      ]
     },
     "metadata": {
      "needs_background": "light"
     },
     "output_type": "display_data"
    }
   ],
   "source": [
    "plot_year_trends('tempo', time_track)"
   ]
  },
  {
   "cell_type": "markdown",
   "metadata": {},
   "source": [
    "Rap music has sped up a bit over the years"
   ]
  },
  {
   "cell_type": "code",
   "execution_count": 103,
   "metadata": {},
   "outputs": [
    {
     "data": {
      "image/png": "[encoded data removed]",
      "text/plain": [
       "<Figure size 432x288 with 1 Axes>"
      ]
     },
     "metadata": {
      "needs_background": "light"
     },
     "output_type": "display_data"
    }
   ],
   "source": [
    "plot_year_trends('duration_ms', time_track)"
   ]
  },
  {
   "cell_type": "markdown",
   "metadata": {},
   "source": [
    "Songs in general are getting shorter"
   ]
  },
  {
   "cell_type": "markdown",
   "metadata": {},
   "source": [
    "### Feature engineering"
   ]
  },
  {
   "cell_type": "code",
   "execution_count": 158,
   "metadata": {},
   "outputs": [],
   "source": [
    "years = [[i + 2000 for i in range(j,j+3)] for j in range(0, 20, 3)]\n",
    "\n",
    "years_vals = ['00-02', '03-05', '06-08', '09-11', '12-14', '15-17', '18-20']\n",
    "\n",
    "years_dict = {}\n",
    "\n",
    "for b in range(0,7): \n",
    "    for i in years[b]:\n",
    "        years_dict.update({i:years_vals[b]})\n",
    "\n",
    "spotify_df['year_bucket'] = spotify_df['year'].map(years_dict)\n",
    "\n",
    "le = LabelEncoder() \n",
    "\n",
    "spotify_df['year_bucket_le'] = le.fit_transform(spotify_df.year_bucket)\n",
    "\n",
    "model_df = pd.get_dummies(spotify_df, columns=[\"year_bucket\", \"chart\", \"key_name\", 'mode_name'], prefix=[\"year\", \"chart\", \"key\", \"mode\"] )\n",
    "\n",
    "labels = np.array(model_df['chart_rap-song'])"
   ]
  },
  {
   "cell_type": "code",
   "execution_count": 159,
   "metadata": {},
   "outputs": [
    {
     "data": {
      "text/plain": [
       "Index(['artist', 'track', 'date', 'spotify_query', 'danceability', 'energy',\n",
       "       'key', 'loudness', 'mode', 'speechiness', 'acousticness',\n",
       "       'instrumentalness', 'liveness', 'valence', 'tempo', 'type', 'id', 'uri',\n",
       "       'track_href', 'analysis_url', 'duration_ms', 'time_signature', 'year',\n",
       "       'key_full', 'year_bucket_le', 'year_00-02', 'year_03-05', 'year_06-08',\n",
       "       'year_09-11', 'year_12-14', 'year_15-17', 'year_18-20', 'chart_hot-100',\n",
       "       'chart_rap-song', 'key_A', 'key_Ab', 'key_B', 'key_Bb', 'key_C',\n",
       "       'key_D', 'key_Db', 'key_E', 'key_Eb', 'key_F', 'key_G', 'key_Gb',\n",
       "       'mode_major', 'mode_minor'],\n",
       "      dtype='object')"
      ]
     },
     "execution_count": 159,
     "metadata": {},
     "output_type": "execute_result"
    }
   ],
   "source": [
    "model_df.columns"
   ]
  },
  {
   "cell_type": "code",
   "execution_count": 160,
   "metadata": {},
   "outputs": [
    {
     "data": {
      "text/html": [
       "<div>\n",
       "<style scoped>\n",
       "    .dataframe tbody tr th:only-of-type {\n",
       "        vertical-align: middle;\n",
       "    }\n",
       "\n",
       "    .dataframe tbody tr th {\n",
       "        vertical-align: top;\n",
       "    }\n",
       "\n",
       "    .dataframe thead th {\n",
       "        text-align: right;\n",
       "    }\n",
       "</style>\n",
       "<table border=\"1\" class=\"dataframe\">\n",
       "  <thead>\n",
       "    <tr style=\"text-align: right;\">\n",
       "      <th></th>\n",
       "      <th>artist</th>\n",
       "      <th>track</th>\n",
       "      <th>date</th>\n",
       "      <th>chart</th>\n",
       "      <th>spotify_query</th>\n",
       "      <th>danceability</th>\n",
       "      <th>energy</th>\n",
       "      <th>key</th>\n",
       "      <th>loudness</th>\n",
       "      <th>mode</th>\n",
       "      <th>...</th>\n",
       "      <th>track_href</th>\n",
       "      <th>analysis_url</th>\n",
       "      <th>duration_ms</th>\n",
       "      <th>time_signature</th>\n",
       "      <th>year</th>\n",
       "      <th>key_name</th>\n",
       "      <th>mode_name</th>\n",
       "      <th>key_full</th>\n",
       "      <th>year_bucket</th>\n",
       "      <th>year_bucket_le</th>\n",
       "    </tr>\n",
       "  </thead>\n",
       "  <tbody>\n",
       "    <tr>\n",
       "      <th>0</th>\n",
       "      <td>NLE Choppa Featuring Roddy Ricch</td>\n",
       "      <td>Walk Em Down</td>\n",
       "      <td>2020-05-01</td>\n",
       "      <td>rap-song</td>\n",
       "      <td>NLE+Choppa+Walk+Em+Down</td>\n",
       "      <td>0.867</td>\n",
       "      <td>0.744</td>\n",
       "      <td>9</td>\n",
       "      <td>-5.171</td>\n",
       "      <td>0</td>\n",
       "      <td>...</td>\n",
       "      <td>https://api.spotify.com/v1/tracks/4cSSL3YafYjM...</td>\n",
       "      <td>https://api.spotify.com/v1/audio-analysis/4cSS...</td>\n",
       "      <td>173288</td>\n",
       "      <td>4</td>\n",
       "      <td>2020</td>\n",
       "      <td>A</td>\n",
       "      <td>minor</td>\n",
       "      <td>Aminor</td>\n",
       "      <td>18-20</td>\n",
       "      <td>6</td>\n",
       "    </tr>\n",
       "    <tr>\n",
       "      <th>1</th>\n",
       "      <td>DaBaby</td>\n",
       "      <td>Find My Way</td>\n",
       "      <td>2020-05-01</td>\n",
       "      <td>rap-song</td>\n",
       "      <td>DaBaby+Find+My+Way</td>\n",
       "      <td>0.836</td>\n",
       "      <td>0.624</td>\n",
       "      <td>4</td>\n",
       "      <td>-6.750</td>\n",
       "      <td>0</td>\n",
       "      <td>...</td>\n",
       "      <td>https://api.spotify.com/v1/tracks/1gVCEnryJhkd...</td>\n",
       "      <td>https://api.spotify.com/v1/audio-analysis/1gVC...</td>\n",
       "      <td>139890</td>\n",
       "      <td>4</td>\n",
       "      <td>2020</td>\n",
       "      <td>E</td>\n",
       "      <td>minor</td>\n",
       "      <td>Eminor</td>\n",
       "      <td>18-20</td>\n",
       "      <td>6</td>\n",
       "    </tr>\n",
       "    <tr>\n",
       "      <th>2</th>\n",
       "      <td>Drake</td>\n",
       "      <td>Toosie Slide</td>\n",
       "      <td>2020-05-01</td>\n",
       "      <td>rap-song</td>\n",
       "      <td>Drake+Toosie+Slide</td>\n",
       "      <td>0.834</td>\n",
       "      <td>0.454</td>\n",
       "      <td>1</td>\n",
       "      <td>-9.750</td>\n",
       "      <td>0</td>\n",
       "      <td>...</td>\n",
       "      <td>https://api.spotify.com/v1/tracks/127QTOFJsJQp...</td>\n",
       "      <td>https://api.spotify.com/v1/audio-analysis/127Q...</td>\n",
       "      <td>247059</td>\n",
       "      <td>4</td>\n",
       "      <td>2020</td>\n",
       "      <td>Db</td>\n",
       "      <td>minor</td>\n",
       "      <td>Dbminor</td>\n",
       "      <td>18-20</td>\n",
       "      <td>6</td>\n",
       "    </tr>\n",
       "    <tr>\n",
       "      <th>3</th>\n",
       "      <td>Roddy Ricch</td>\n",
       "      <td>The Box</td>\n",
       "      <td>2020-05-01</td>\n",
       "      <td>rap-song</td>\n",
       "      <td>Roddy+Ricch+The+Box</td>\n",
       "      <td>0.896</td>\n",
       "      <td>0.586</td>\n",
       "      <td>10</td>\n",
       "      <td>-6.687</td>\n",
       "      <td>0</td>\n",
       "      <td>...</td>\n",
       "      <td>https://api.spotify.com/v1/tracks/0nbXyq5TXYPC...</td>\n",
       "      <td>https://api.spotify.com/v1/audio-analysis/0nbX...</td>\n",
       "      <td>196653</td>\n",
       "      <td>4</td>\n",
       "      <td>2020</td>\n",
       "      <td>Bb</td>\n",
       "      <td>minor</td>\n",
       "      <td>Bbminor</td>\n",
       "      <td>18-20</td>\n",
       "      <td>6</td>\n",
       "    </tr>\n",
       "    <tr>\n",
       "      <th>4</th>\n",
       "      <td>DaBaby Featuring Roddy Ricch</td>\n",
       "      <td>Rockstar</td>\n",
       "      <td>2020-05-01</td>\n",
       "      <td>rap-song</td>\n",
       "      <td>DaBaby+Rockstar</td>\n",
       "      <td>0.746</td>\n",
       "      <td>0.690</td>\n",
       "      <td>11</td>\n",
       "      <td>-7.956</td>\n",
       "      <td>1</td>\n",
       "      <td>...</td>\n",
       "      <td>https://api.spotify.com/v1/tracks/7ytR5pFWmSjz...</td>\n",
       "      <td>https://api.spotify.com/v1/audio-analysis/7ytR...</td>\n",
       "      <td>181733</td>\n",
       "      <td>4</td>\n",
       "      <td>2020</td>\n",
       "      <td>B</td>\n",
       "      <td>major</td>\n",
       "      <td>Bmajor</td>\n",
       "      <td>18-20</td>\n",
       "      <td>6</td>\n",
       "    </tr>\n",
       "  </tbody>\n",
       "</table>\n",
       "<p>5 rows × 29 columns</p>\n",
       "</div>"
      ],
      "text/plain": [
       "                             artist         track        date     chart  \\\n",
       "0  NLE Choppa Featuring Roddy Ricch  Walk Em Down  2020-05-01  rap-song   \n",
       "1                            DaBaby   Find My Way  2020-05-01  rap-song   \n",
       "2                             Drake  Toosie Slide  2020-05-01  rap-song   \n",
       "3                       Roddy Ricch       The Box  2020-05-01  rap-song   \n",
       "4      DaBaby Featuring Roddy Ricch      Rockstar  2020-05-01  rap-song   \n",
       "\n",
       "             spotify_query  danceability  energy  key  loudness  mode  ...  \\\n",
       "0  NLE+Choppa+Walk+Em+Down         0.867   0.744    9    -5.171     0  ...   \n",
       "1       DaBaby+Find+My+Way         0.836   0.624    4    -6.750     0  ...   \n",
       "2       Drake+Toosie+Slide         0.834   0.454    1    -9.750     0  ...   \n",
       "3      Roddy+Ricch+The+Box         0.896   0.586   10    -6.687     0  ...   \n",
       "4          DaBaby+Rockstar         0.746   0.690   11    -7.956     1  ...   \n",
       "\n",
       "                                          track_href  \\\n",
       "0  https://api.spotify.com/v1/tracks/4cSSL3YafYjM...   \n",
       "1  https://api.spotify.com/v1/tracks/1gVCEnryJhkd...   \n",
       "2  https://api.spotify.com/v1/tracks/127QTOFJsJQp...   \n",
       "3  https://api.spotify.com/v1/tracks/0nbXyq5TXYPC...   \n",
       "4  https://api.spotify.com/v1/tracks/7ytR5pFWmSjz...   \n",
       "\n",
       "                                        analysis_url  duration_ms  \\\n",
       "0  https://api.spotify.com/v1/audio-analysis/4cSS...       173288   \n",
       "1  https://api.spotify.com/v1/audio-analysis/1gVC...       139890   \n",
       "2  https://api.spotify.com/v1/audio-analysis/127Q...       247059   \n",
       "3  https://api.spotify.com/v1/audio-analysis/0nbX...       196653   \n",
       "4  https://api.spotify.com/v1/audio-analysis/7ytR...       181733   \n",
       "\n",
       "   time_signature  year  key_name mode_name key_full year_bucket  \\\n",
       "0               4  2020         A     minor   Aminor       18-20   \n",
       "1               4  2020         E     minor   Eminor       18-20   \n",
       "2               4  2020        Db     minor  Dbminor       18-20   \n",
       "3               4  2020        Bb     minor  Bbminor       18-20   \n",
       "4               4  2020         B     major   Bmajor       18-20   \n",
       "\n",
       "  year_bucket_le  \n",
       "0              6  \n",
       "1              6  \n",
       "2              6  \n",
       "3              6  \n",
       "4              6  \n",
       "\n",
       "[5 rows x 29 columns]"
      ]
     },
     "execution_count": 160,
     "metadata": {},
     "output_type": "execute_result"
    }
   ],
   "source": [
    "spotify_df.head()"
   ]
  },
  {
   "cell_type": "code",
   "execution_count": 161,
   "metadata": {},
   "outputs": [],
   "source": [
    "# feature_names = ['danceability', 'energy','loudness','speechiness', 'acousticness',\n",
    "#                 'instrumentalness', 'liveness', 'valence', 'tempo','duration_ms','year',\n",
    "#                 'year_00-02', 'year_03-05', 'year_06-08','year_09-11', 'year_12-14', 'year_15-17', 'year_18-20',\n",
    "#                 'key_A', 'key_Ab', 'key_B', 'key_Bb', 'key_C', 'key_D', 'key_Db', 'key_E', \n",
    "#                 'key_Eb', 'key_F', 'key_G', 'key_Gb',\n",
    "#                 'mode_major']\n",
    "\n",
    "# feature_names = ['danceability', 'energy','loudness', 'acousticness',\n",
    "#                 'instrumentalness', 'liveness', 'valence', 'tempo','duration_ms',\n",
    "#                 'key_A', 'key_Ab', 'key_B', 'key_Bb', 'key_C', 'key_D', 'key_Db', 'key_E', \n",
    "#                 'key_Eb', 'key_F', 'key_G', 'key_Gb',\n",
    "#                 'mode_major']\n",
    "\n",
    "feature_names = ['danceability', 'energy','loudness', 'acousticness', 'speechiness',\n",
    "                'instrumentalness', 'liveness', 'valence', 'tempo','duration_ms',\n",
    "                'key_A', 'key_Ab', 'key_B', 'key_Bb', 'key_C', 'key_D', 'key_Db', 'key_E', \n",
    "                'key_Eb', 'key_F', 'key_G', 'key_Gb',\n",
    "                'mode_major']"
   ]
  },
  {
   "cell_type": "code",
   "execution_count": 162,
   "metadata": {},
   "outputs": [],
   "source": [
    "model_df = model_df.loc[:, feature_names]"
   ]
  },
  {
   "cell_type": "code",
   "execution_count": 196,
   "metadata": {},
   "outputs": [
    {
     "name": "stdout",
     "output_type": "stream",
     "text": [
      "Training Features Shape: (2637, 23)\n",
      "Training Labels Shape: (2637,)\n",
      "Testing Features Shape: (880, 23)\n",
      "Testing Labels Shape: (880,)\n"
     ]
    }
   ],
   "source": [
    "# Split the data into training and testing sets\n",
    "train_features, test_features, train_labels, test_labels = train_test_split(model_df, labels, \n",
    "                                                                            test_size = 0.25, random_state = 42)\n",
    "\n",
    "print('Training Features Shape:', train_features.shape)\n",
    "print('Training Labels Shape:', train_labels.shape)\n",
    "print('Testing Features Shape:', test_features.shape)\n",
    "print('Testing Labels Shape:', test_labels.shape)"
   ]
  },
  {
   "cell_type": "code",
   "execution_count": 197,
   "metadata": {},
   "outputs": [
    {
     "data": {
      "text/html": [
       "<div>\n",
       "<style scoped>\n",
       "    .dataframe tbody tr th:only-of-type {\n",
       "        vertical-align: middle;\n",
       "    }\n",
       "\n",
       "    .dataframe tbody tr th {\n",
       "        vertical-align: top;\n",
       "    }\n",
       "\n",
       "    .dataframe thead th {\n",
       "        text-align: right;\n",
       "    }\n",
       "</style>\n",
       "<table border=\"1\" class=\"dataframe\">\n",
       "  <thead>\n",
       "    <tr style=\"text-align: right;\">\n",
       "      <th></th>\n",
       "      <th>danceability</th>\n",
       "      <th>energy</th>\n",
       "      <th>loudness</th>\n",
       "      <th>acousticness</th>\n",
       "      <th>speechiness</th>\n",
       "      <th>instrumentalness</th>\n",
       "      <th>liveness</th>\n",
       "      <th>valence</th>\n",
       "      <th>tempo</th>\n",
       "      <th>duration_ms</th>\n",
       "      <th>...</th>\n",
       "      <th>key_Bb</th>\n",
       "      <th>key_C</th>\n",
       "      <th>key_D</th>\n",
       "      <th>key_Db</th>\n",
       "      <th>key_E</th>\n",
       "      <th>key_Eb</th>\n",
       "      <th>key_F</th>\n",
       "      <th>key_G</th>\n",
       "      <th>key_Gb</th>\n",
       "      <th>mode_major</th>\n",
       "    </tr>\n",
       "  </thead>\n",
       "  <tbody>\n",
       "    <tr>\n",
       "      <th>2457</th>\n",
       "      <td>0.657</td>\n",
       "      <td>0.695</td>\n",
       "      <td>-4.493</td>\n",
       "      <td>0.010800</td>\n",
       "      <td>0.0321</td>\n",
       "      <td>0.000000</td>\n",
       "      <td>0.0822</td>\n",
       "      <td>0.683</td>\n",
       "      <td>131.9940</td>\n",
       "      <td>212107</td>\n",
       "      <td>...</td>\n",
       "      <td>0</td>\n",
       "      <td>0</td>\n",
       "      <td>1</td>\n",
       "      <td>0</td>\n",
       "      <td>0</td>\n",
       "      <td>0</td>\n",
       "      <td>0</td>\n",
       "      <td>0</td>\n",
       "      <td>0</td>\n",
       "      <td>1</td>\n",
       "    </tr>\n",
       "    <tr>\n",
       "      <th>70</th>\n",
       "      <td>0.850</td>\n",
       "      <td>0.516</td>\n",
       "      <td>-7.664</td>\n",
       "      <td>0.763000</td>\n",
       "      <td>0.0714</td>\n",
       "      <td>0.000000</td>\n",
       "      <td>0.0896</td>\n",
       "      <td>0.874</td>\n",
       "      <td>108.9630</td>\n",
       "      <td>158532</td>\n",
       "      <td>...</td>\n",
       "      <td>0</td>\n",
       "      <td>1</td>\n",
       "      <td>0</td>\n",
       "      <td>0</td>\n",
       "      <td>0</td>\n",
       "      <td>0</td>\n",
       "      <td>0</td>\n",
       "      <td>0</td>\n",
       "      <td>0</td>\n",
       "      <td>0</td>\n",
       "    </tr>\n",
       "    <tr>\n",
       "      <th>358</th>\n",
       "      <td>0.647</td>\n",
       "      <td>0.673</td>\n",
       "      <td>-5.992</td>\n",
       "      <td>0.172000</td>\n",
       "      <td>0.1760</td>\n",
       "      <td>0.000000</td>\n",
       "      <td>0.2230</td>\n",
       "      <td>0.527</td>\n",
       "      <td>89.9855</td>\n",
       "      <td>224000</td>\n",
       "      <td>...</td>\n",
       "      <td>0</td>\n",
       "      <td>0</td>\n",
       "      <td>0</td>\n",
       "      <td>0</td>\n",
       "      <td>0</td>\n",
       "      <td>0</td>\n",
       "      <td>1</td>\n",
       "      <td>0</td>\n",
       "      <td>0</td>\n",
       "      <td>1</td>\n",
       "    </tr>\n",
       "    <tr>\n",
       "      <th>325</th>\n",
       "      <td>0.635</td>\n",
       "      <td>0.847</td>\n",
       "      <td>-3.152</td>\n",
       "      <td>0.533000</td>\n",
       "      <td>0.4470</td>\n",
       "      <td>0.000000</td>\n",
       "      <td>0.1540</td>\n",
       "      <td>0.568</td>\n",
       "      <td>83.0360</td>\n",
       "      <td>234650</td>\n",
       "      <td>...</td>\n",
       "      <td>0</td>\n",
       "      <td>0</td>\n",
       "      <td>0</td>\n",
       "      <td>0</td>\n",
       "      <td>0</td>\n",
       "      <td>0</td>\n",
       "      <td>0</td>\n",
       "      <td>1</td>\n",
       "      <td>0</td>\n",
       "      <td>1</td>\n",
       "    </tr>\n",
       "    <tr>\n",
       "      <th>2208</th>\n",
       "      <td>0.719</td>\n",
       "      <td>0.847</td>\n",
       "      <td>-6.340</td>\n",
       "      <td>0.002010</td>\n",
       "      <td>0.0916</td>\n",
       "      <td>0.020400</td>\n",
       "      <td>0.2210</td>\n",
       "      <td>0.444</td>\n",
       "      <td>127.9630</td>\n",
       "      <td>242680</td>\n",
       "      <td>...</td>\n",
       "      <td>0</td>\n",
       "      <td>1</td>\n",
       "      <td>0</td>\n",
       "      <td>0</td>\n",
       "      <td>0</td>\n",
       "      <td>0</td>\n",
       "      <td>0</td>\n",
       "      <td>0</td>\n",
       "      <td>0</td>\n",
       "      <td>0</td>\n",
       "    </tr>\n",
       "    <tr>\n",
       "      <th>...</th>\n",
       "      <td>...</td>\n",
       "      <td>...</td>\n",
       "      <td>...</td>\n",
       "      <td>...</td>\n",
       "      <td>...</td>\n",
       "      <td>...</td>\n",
       "      <td>...</td>\n",
       "      <td>...</td>\n",
       "      <td>...</td>\n",
       "      <td>...</td>\n",
       "      <td>...</td>\n",
       "      <td>...</td>\n",
       "      <td>...</td>\n",
       "      <td>...</td>\n",
       "      <td>...</td>\n",
       "      <td>...</td>\n",
       "      <td>...</td>\n",
       "      <td>...</td>\n",
       "      <td>...</td>\n",
       "      <td>...</td>\n",
       "      <td>...</td>\n",
       "    </tr>\n",
       "    <tr>\n",
       "      <th>2297</th>\n",
       "      <td>0.366</td>\n",
       "      <td>0.651</td>\n",
       "      <td>-3.842</td>\n",
       "      <td>0.000415</td>\n",
       "      <td>0.0310</td>\n",
       "      <td>0.005260</td>\n",
       "      <td>0.2710</td>\n",
       "      <td>0.257</td>\n",
       "      <td>151.3430</td>\n",
       "      <td>200707</td>\n",
       "      <td>...</td>\n",
       "      <td>0</td>\n",
       "      <td>0</td>\n",
       "      <td>0</td>\n",
       "      <td>0</td>\n",
       "      <td>1</td>\n",
       "      <td>0</td>\n",
       "      <td>0</td>\n",
       "      <td>0</td>\n",
       "      <td>0</td>\n",
       "      <td>1</td>\n",
       "    </tr>\n",
       "    <tr>\n",
       "      <th>1114</th>\n",
       "      <td>0.641</td>\n",
       "      <td>0.615</td>\n",
       "      <td>-7.475</td>\n",
       "      <td>0.036700</td>\n",
       "      <td>0.3890</td>\n",
       "      <td>0.000000</td>\n",
       "      <td>0.1050</td>\n",
       "      <td>0.411</td>\n",
       "      <td>137.8760</td>\n",
       "      <td>240147</td>\n",
       "      <td>...</td>\n",
       "      <td>0</td>\n",
       "      <td>0</td>\n",
       "      <td>0</td>\n",
       "      <td>1</td>\n",
       "      <td>0</td>\n",
       "      <td>0</td>\n",
       "      <td>0</td>\n",
       "      <td>0</td>\n",
       "      <td>0</td>\n",
       "      <td>1</td>\n",
       "    </tr>\n",
       "    <tr>\n",
       "      <th>3283</th>\n",
       "      <td>0.487</td>\n",
       "      <td>0.702</td>\n",
       "      <td>-6.043</td>\n",
       "      <td>0.005360</td>\n",
       "      <td>0.0238</td>\n",
       "      <td>0.000005</td>\n",
       "      <td>0.1290</td>\n",
       "      <td>0.306</td>\n",
       "      <td>95.9730</td>\n",
       "      <td>265907</td>\n",
       "      <td>...</td>\n",
       "      <td>0</td>\n",
       "      <td>0</td>\n",
       "      <td>0</td>\n",
       "      <td>0</td>\n",
       "      <td>0</td>\n",
       "      <td>0</td>\n",
       "      <td>0</td>\n",
       "      <td>1</td>\n",
       "      <td>0</td>\n",
       "      <td>1</td>\n",
       "    </tr>\n",
       "    <tr>\n",
       "      <th>3082</th>\n",
       "      <td>0.484</td>\n",
       "      <td>0.827</td>\n",
       "      <td>-5.324</td>\n",
       "      <td>0.003900</td>\n",
       "      <td>0.0460</td>\n",
       "      <td>0.001430</td>\n",
       "      <td>0.0876</td>\n",
       "      <td>0.717</td>\n",
       "      <td>89.7830</td>\n",
       "      <td>230760</td>\n",
       "      <td>...</td>\n",
       "      <td>0</td>\n",
       "      <td>0</td>\n",
       "      <td>0</td>\n",
       "      <td>0</td>\n",
       "      <td>0</td>\n",
       "      <td>0</td>\n",
       "      <td>0</td>\n",
       "      <td>0</td>\n",
       "      <td>0</td>\n",
       "      <td>1</td>\n",
       "    </tr>\n",
       "    <tr>\n",
       "      <th>2787</th>\n",
       "      <td>0.545</td>\n",
       "      <td>0.753</td>\n",
       "      <td>-4.618</td>\n",
       "      <td>0.041700</td>\n",
       "      <td>0.0360</td>\n",
       "      <td>0.000000</td>\n",
       "      <td>0.3890</td>\n",
       "      <td>0.434</td>\n",
       "      <td>105.7540</td>\n",
       "      <td>282947</td>\n",
       "      <td>...</td>\n",
       "      <td>0</td>\n",
       "      <td>0</td>\n",
       "      <td>0</td>\n",
       "      <td>0</td>\n",
       "      <td>0</td>\n",
       "      <td>1</td>\n",
       "      <td>0</td>\n",
       "      <td>0</td>\n",
       "      <td>0</td>\n",
       "      <td>0</td>\n",
       "    </tr>\n",
       "  </tbody>\n",
       "</table>\n",
       "<p>880 rows × 23 columns</p>\n",
       "</div>"
      ],
      "text/plain": [
       "      danceability  energy  loudness  acousticness  speechiness  \\\n",
       "2457         0.657   0.695    -4.493      0.010800       0.0321   \n",
       "70           0.850   0.516    -7.664      0.763000       0.0714   \n",
       "358          0.647   0.673    -5.992      0.172000       0.1760   \n",
       "325          0.635   0.847    -3.152      0.533000       0.4470   \n",
       "2208         0.719   0.847    -6.340      0.002010       0.0916   \n",
       "...            ...     ...       ...           ...          ...   \n",
       "2297         0.366   0.651    -3.842      0.000415       0.0310   \n",
       "1114         0.641   0.615    -7.475      0.036700       0.3890   \n",
       "3283         0.487   0.702    -6.043      0.005360       0.0238   \n",
       "3082         0.484   0.827    -5.324      0.003900       0.0460   \n",
       "2787         0.545   0.753    -4.618      0.041700       0.0360   \n",
       "\n",
       "      instrumentalness  liveness  valence     tempo  duration_ms  ...  key_Bb  \\\n",
       "2457          0.000000    0.0822    0.683  131.9940       212107  ...       0   \n",
       "70            0.000000    0.0896    0.874  108.9630       158532  ...       0   \n",
       "358           0.000000    0.2230    0.527   89.9855       224000  ...       0   \n",
       "325           0.000000    0.1540    0.568   83.0360       234650  ...       0   \n",
       "2208          0.020400    0.2210    0.444  127.9630       242680  ...       0   \n",
       "...                ...       ...      ...       ...          ...  ...     ...   \n",
       "2297          0.005260    0.2710    0.257  151.3430       200707  ...       0   \n",
       "1114          0.000000    0.1050    0.411  137.8760       240147  ...       0   \n",
       "3283          0.000005    0.1290    0.306   95.9730       265907  ...       0   \n",
       "3082          0.001430    0.0876    0.717   89.7830       230760  ...       0   \n",
       "2787          0.000000    0.3890    0.434  105.7540       282947  ...       0   \n",
       "\n",
       "      key_C  key_D  key_Db  key_E  key_Eb  key_F  key_G  key_Gb  mode_major  \n",
       "2457      0      1       0      0       0      0      0       0           1  \n",
       "70        1      0       0      0       0      0      0       0           0  \n",
       "358       0      0       0      0       0      1      0       0           1  \n",
       "325       0      0       0      0       0      0      1       0           1  \n",
       "2208      1      0       0      0       0      0      0       0           0  \n",
       "...     ...    ...     ...    ...     ...    ...    ...     ...         ...  \n",
       "2297      0      0       0      1       0      0      0       0           1  \n",
       "1114      0      0       1      0       0      0      0       0           1  \n",
       "3283      0      0       0      0       0      0      1       0           1  \n",
       "3082      0      0       0      0       0      0      0       0           1  \n",
       "2787      0      0       0      0       1      0      0       0           0  \n",
       "\n",
       "[880 rows x 23 columns]"
      ]
     },
     "execution_count": 197,
     "metadata": {},
     "output_type": "execute_result"
    }
   ],
   "source": [
    "test_features"
   ]
  },
  {
   "cell_type": "code",
   "execution_count": 198,
   "metadata": {},
   "outputs": [],
   "source": [
    "RSEED = 50"
   ]
  },
  {
   "cell_type": "code",
   "execution_count": 199,
   "metadata": {},
   "outputs": [],
   "source": [
    "model = RandomForestClassifier(n_estimators=100, \n",
    "            random_state=RSEED, \n",
    "            max_features = 'sqrt',\n",
    "            n_jobs=-1, verbose = 1)"
   ]
  },
  {
   "cell_type": "code",
   "execution_count": 200,
   "metadata": {},
   "outputs": [
    {
     "name": "stderr",
     "output_type": "stream",
     "text": [
      "[Parallel(n_jobs=-1)]: Using backend ThreadingBackend with 4 concurrent workers.\n",
      "[Parallel(n_jobs=-1)]: Done  42 tasks      | elapsed:    0.1s\n",
      "[Parallel(n_jobs=-1)]: Done 100 out of 100 | elapsed:    0.3s finished\n"
     ]
    },
    {
     "data": {
      "text/plain": [
       "RandomForestClassifier(bootstrap=True, ccp_alpha=0.0, class_weight=None,\n",
       "                       criterion='gini', max_depth=None, max_features='sqrt',\n",
       "                       max_leaf_nodes=None, max_samples=None,\n",
       "                       min_impurity_decrease=0.0, min_impurity_split=None,\n",
       "                       min_samples_leaf=1, min_samples_split=2,\n",
       "                       min_weight_fraction_leaf=0.0, n_estimators=100,\n",
       "                       n_jobs=-1, oob_score=False, random_state=50, verbose=1,\n",
       "                       warm_start=False)"
      ]
     },
     "execution_count": 200,
     "metadata": {},
     "output_type": "execute_result"
    }
   ],
   "source": [
    "model.fit(train_features, train_labels)"
   ]
  },
  {
   "cell_type": "code",
   "execution_count": 201,
   "metadata": {},
   "outputs": [
    {
     "name": "stderr",
     "output_type": "stream",
     "text": [
      "[Parallel(n_jobs=4)]: Using backend ThreadingBackend with 4 concurrent workers.\n",
      "[Parallel(n_jobs=4)]: Done  42 tasks      | elapsed:    0.0s\n",
      "[Parallel(n_jobs=4)]: Done 100 out of 100 | elapsed:    0.1s finished\n",
      "[Parallel(n_jobs=4)]: Using backend ThreadingBackend with 4 concurrent workers.\n",
      "[Parallel(n_jobs=4)]: Done  42 tasks      | elapsed:    0.0s\n",
      "[Parallel(n_jobs=4)]: Done 100 out of 100 | elapsed:    0.1s finished\n",
      "[Parallel(n_jobs=4)]: Using backend ThreadingBackend with 4 concurrent workers.\n",
      "[Parallel(n_jobs=4)]: Done  42 tasks      | elapsed:    0.0s\n",
      "[Parallel(n_jobs=4)]: Done 100 out of 100 | elapsed:    0.0s finished\n",
      "[Parallel(n_jobs=4)]: Using backend ThreadingBackend with 4 concurrent workers.\n",
      "[Parallel(n_jobs=4)]: Done  42 tasks      | elapsed:    0.0s\n",
      "[Parallel(n_jobs=4)]: Done 100 out of 100 | elapsed:    0.0s finished\n"
     ]
    }
   ],
   "source": [
    "train_rf_predictions = model.predict(train_features)\n",
    "train_rf_probs = model.predict_proba(train_features)[:, 1]\n",
    "\n",
    "rf_predictions = model.predict(test_features)\n",
    "rf_probs = model.predict_proba(test_features)[:, 1]"
   ]
  },
  {
   "cell_type": "code",
   "execution_count": 114,
   "metadata": {},
   "outputs": [],
   "source": [
    "def evaluate_model(predictions, probs, train_predictions, train_probs):\n",
    "    \"\"\"Compare machine learning model to baseline performance.\n",
    "    Computes statistics and shows ROC curve.\"\"\"\n",
    "    \n",
    "    baseline = {}\n",
    "    \n",
    "    baseline['recall'] = recall_score(test_labels, \n",
    "                                     [1 for _ in range(len(test_labels))])\n",
    "    baseline['precision'] = precision_score(test_labels, \n",
    "                                      [1 for _ in range(len(test_labels))])\n",
    "    baseline['roc'] = 0.5\n",
    "    \n",
    "    results = {}\n",
    "    \n",
    "    results['recall'] = recall_score(test_labels, predictions)\n",
    "    results['precision'] = precision_score(test_labels, predictions)\n",
    "    results['roc'] = roc_auc_score(test_labels, probs)\n",
    "    \n",
    "    train_results = {}\n",
    "    train_results['recall'] = recall_score(train_labels, train_predictions)\n",
    "    train_results['precision'] = precision_score(train_labels, train_predictions)\n",
    "    train_results['roc'] = roc_auc_score(train_labels, train_probs)\n",
    "    \n",
    "    for metric in ['recall', 'precision', 'roc']:\n",
    "        print(f'{metric.capitalize()} Baseline: {round(baseline[metric], 2)} Test: {round(results[metric], 2)} Train: {round(train_results[metric], 2)}')\n",
    "    \n",
    "    # Calculate false positive rates and true positive rates\n",
    "    base_fpr, base_tpr, _ = roc_curve(test_labels, [1 for _ in range(len(test_labels))])\n",
    "    model_fpr, model_tpr, _ = roc_curve(test_labels, probs)\n",
    "\n",
    "    plt.figure(figsize = (8, 6))\n",
    "    plt.rcParams['font.size'] = 16\n",
    "    \n",
    "    # Plot both curves\n",
    "    plt.plot(base_fpr, base_tpr, 'b', label = 'baseline')\n",
    "    plt.plot(model_fpr, model_tpr, 'r', label = 'model')\n",
    "    plt.legend();\n",
    "    plt.xlabel('False Positive Rate'); \n",
    "    plt.ylabel('True Positive Rate'); plt.title('ROC Curves');\n",
    "    plt.show();"
   ]
  },
  {
   "cell_type": "code",
   "execution_count": 115,
   "metadata": {},
   "outputs": [
    {
     "name": "stdout",
     "output_type": "stream",
     "text": [
      "Recall Baseline: 1.0 Test: 0.74 Train: 1.0\n",
      "Precision Baseline: 0.48 Test: 0.85 Train: 1.0\n",
      "Roc Baseline: 0.5 Test: 0.91 Train: 1.0\n"
     ]
    },
    {
     "data": {
      "image/png": "[encoded data removed]",
      "text/plain": [
       "<Figure size 576x432 with 1 Axes>"
      ]
     },
     "metadata": {
      "needs_background": "light"
     },
     "output_type": "display_data"
    }
   ],
   "source": [
    "evaluate_model(rf_predictions, rf_probs, train_rf_predictions, train_rf_probs)"
   ]
  },
  {
   "cell_type": "code",
   "execution_count": 206,
   "metadata": {},
   "outputs": [],
   "source": [
    "results = {}\n",
    "    \n",
    "results['recall'] = round(recall_score(test_labels, rf_predictions),2).tolist()\n",
    "results['precision'] = round(precision_score(test_labels, rf_predictions),2)\n",
    "results['roc'] = round(roc_auc_score(test_labels, rf_probs),2)"
   ]
  },
  {
   "cell_type": "code",
   "execution_count": 209,
   "metadata": {},
   "outputs": [
    {
     "data": {
      "text/plain": [
       "float"
      ]
     },
     "execution_count": 209,
     "metadata": {},
     "output_type": "execute_result"
    }
   ],
   "source": [
    "type(round(roc_auc_score(test_labels, rf_probs),2).tolist())"
   ]
  },
  {
   "cell_type": "code",
   "execution_count": 207,
   "metadata": {},
   "outputs": [
    {
     "data": {
      "text/plain": [
       "{'recall': 0.74, 'precision': 0.85, 'roc': 0.91}"
      ]
     },
     "execution_count": 207,
     "metadata": {},
     "output_type": "execute_result"
    }
   ],
   "source": [
    "results"
   ]
  },
  {
   "cell_type": "code",
   "execution_count": 116,
   "metadata": {},
   "outputs": [],
   "source": [
    "# Number of trees in random forest\n",
    "n_estimators = [int(x) for x in np.linspace(start = 200, stop = 2000, num = 10)]\n",
    "# Number of features to consider at every split\n",
    "max_features = ['auto', 'sqrt']\n",
    "# Maximum number of levels in tree\n",
    "max_depth = [int(x) for x in np.linspace(10, 110, num = 11)]\n",
    "max_depth.append(None)\n",
    "# Minimum number of samples required to split a node\n",
    "min_samples_split = [2, 5, 10]\n",
    "# Minimum number of samples required at each leaf node\n",
    "min_samples_leaf = [1, 2, 4]\n",
    "# Method of selecting samples for training each tree\n",
    "bootstrap = [True, False]\n",
    "# Create the random grid\n",
    "random_grid = {'n_estimators': n_estimators,\n",
    "               'max_features': max_features,\n",
    "               'max_depth': max_depth,\n",
    "               'min_samples_split': min_samples_split,\n",
    "               'min_samples_leaf': min_samples_leaf,\n",
    "               'bootstrap': bootstrap}"
   ]
  },
  {
   "cell_type": "code",
   "execution_count": 117,
   "metadata": {},
   "outputs": [
    {
     "name": "stdout",
     "output_type": "stream",
     "text": [
      "Fitting 3 folds for each of 100 candidates, totalling 300 fits\n"
     ]
    },
    {
     "name": "stderr",
     "output_type": "stream",
     "text": [
      "[Parallel(n_jobs=-1)]: Using backend LokyBackend with 4 concurrent workers.\n",
      "[Parallel(n_jobs=-1)]: Done  33 tasks      | elapsed:  1.4min\n",
      "[Parallel(n_jobs=-1)]: Done 154 tasks      | elapsed:  6.1min\n",
      "[Parallel(n_jobs=-1)]: Done 300 out of 300 | elapsed: 11.6min finished\n"
     ]
    },
    {
     "data": {
      "text/plain": [
       "RandomizedSearchCV(cv=3, error_score=nan,\n",
       "                   estimator=RandomForestClassifier(bootstrap=True,\n",
       "                                                    ccp_alpha=0.0,\n",
       "                                                    class_weight=None,\n",
       "                                                    criterion='gini',\n",
       "                                                    max_depth=None,\n",
       "                                                    max_features='auto',\n",
       "                                                    max_leaf_nodes=None,\n",
       "                                                    max_samples=None,\n",
       "                                                    min_impurity_decrease=0.0,\n",
       "                                                    min_impurity_split=None,\n",
       "                                                    min_samples_leaf=1,\n",
       "                                                    min_samples_split=2,\n",
       "                                                    min_weight_fraction_leaf=0.0,\n",
       "                                                    n_estimators=100,\n",
       "                                                    n_jobs...\n",
       "                   param_distributions={'bootstrap': [True, False],\n",
       "                                        'max_depth': [10, 20, 30, 40, 50, 60,\n",
       "                                                      70, 80, 90, 100, 110,\n",
       "                                                      None],\n",
       "                                        'max_features': ['auto', 'sqrt'],\n",
       "                                        'min_samples_leaf': [1, 2, 4],\n",
       "                                        'min_samples_split': [2, 5, 10],\n",
       "                                        'n_estimators': [200, 400, 600, 800,\n",
       "                                                         1000, 1200, 1400, 1600,\n",
       "                                                         1800, 2000]},\n",
       "                   pre_dispatch='2*n_jobs', random_state=42, refit=True,\n",
       "                   return_train_score=False, scoring=None, verbose=2)"
      ]
     },
     "execution_count": 117,
     "metadata": {},
     "output_type": "execute_result"
    }
   ],
   "source": [
    "# Use the random grid to search for best hyperparameters\n",
    "# First create the base model to tune\n",
    "rf = RandomForestClassifier()\n",
    "# Random search of parameters, using 3 fold cross validation, \n",
    "# search across 100 different combinations, and use all available cores\n",
    "rf_random = RandomizedSearchCV(estimator = rf, param_distributions = random_grid, n_iter = 100, cv = 3, verbose=2, random_state=42, n_jobs = -1)\n",
    "# Fit the random search model\n",
    "rf_random.fit(model_df, labels,)"
   ]
  },
  {
   "cell_type": "code",
   "execution_count": 118,
   "metadata": {},
   "outputs": [
    {
     "data": {
      "text/plain": [
       "{'n_estimators': 200,\n",
       " 'min_samples_split': 5,\n",
       " 'min_samples_leaf': 4,\n",
       " 'max_features': 'auto',\n",
       " 'max_depth': 10,\n",
       " 'bootstrap': True}"
      ]
     },
     "execution_count": 118,
     "metadata": {},
     "output_type": "execute_result"
    }
   ],
   "source": [
    "rf_random.best_params_"
   ]
  },
  {
   "cell_type": "code",
   "execution_count": 119,
   "metadata": {},
   "outputs": [],
   "source": [
    "best_random = rf_random.best_estimator_"
   ]
  },
  {
   "cell_type": "code",
   "execution_count": 133,
   "metadata": {},
   "outputs": [
    {
     "data": {
      "text/plain": [
       "sklearn.ensemble._forest.RandomForestClassifier"
      ]
     },
     "execution_count": 133,
     "metadata": {},
     "output_type": "execute_result"
    }
   ],
   "source": [
    "type(best_random)"
   ]
  },
  {
   "cell_type": "code",
   "execution_count": 167,
   "metadata": {},
   "outputs": [],
   "source": [
    "gini_importance = best_random.feature_importances_.tolist()"
   ]
  },
  {
   "cell_type": "code",
   "execution_count": 168,
   "metadata": {},
   "outputs": [],
   "source": [
    "features = model_df.columns.tolist()"
   ]
  },
  {
   "cell_type": "code",
   "execution_count": 169,
   "metadata": {},
   "outputs": [],
   "source": [
    "feature_importance = pd.DataFrame({'features': features, 'gini_importance': gini_importance})"
   ]
  },
  {
   "cell_type": "code",
   "execution_count": 171,
   "metadata": {},
   "outputs": [
    {
     "data": {
      "text/html": [
       "<div>\n",
       "<style scoped>\n",
       "    .dataframe tbody tr th:only-of-type {\n",
       "        vertical-align: middle;\n",
       "    }\n",
       "\n",
       "    .dataframe tbody tr th {\n",
       "        vertical-align: top;\n",
       "    }\n",
       "\n",
       "    .dataframe thead th {\n",
       "        text-align: right;\n",
       "    }\n",
       "</style>\n",
       "<table border=\"1\" class=\"dataframe\">\n",
       "  <thead>\n",
       "    <tr style=\"text-align: right;\">\n",
       "      <th></th>\n",
       "      <th>features</th>\n",
       "      <th>gini_importance</th>\n",
       "    </tr>\n",
       "  </thead>\n",
       "  <tbody>\n",
       "    <tr>\n",
       "      <th>4</th>\n",
       "      <td>speechiness</td>\n",
       "      <td>0.448757</td>\n",
       "    </tr>\n",
       "    <tr>\n",
       "      <th>0</th>\n",
       "      <td>danceability</td>\n",
       "      <td>0.156743</td>\n",
       "    </tr>\n",
       "    <tr>\n",
       "      <th>8</th>\n",
       "      <td>tempo</td>\n",
       "      <td>0.053975</td>\n",
       "    </tr>\n",
       "    <tr>\n",
       "      <th>9</th>\n",
       "      <td>duration_ms</td>\n",
       "      <td>0.052017</td>\n",
       "    </tr>\n",
       "    <tr>\n",
       "      <th>5</th>\n",
       "      <td>instrumentalness</td>\n",
       "      <td>0.047733</td>\n",
       "    </tr>\n",
       "    <tr>\n",
       "      <th>7</th>\n",
       "      <td>valence</td>\n",
       "      <td>0.045136</td>\n",
       "    </tr>\n",
       "    <tr>\n",
       "      <th>6</th>\n",
       "      <td>liveness</td>\n",
       "      <td>0.042711</td>\n",
       "    </tr>\n",
       "    <tr>\n",
       "      <th>3</th>\n",
       "      <td>acousticness</td>\n",
       "      <td>0.041679</td>\n",
       "    </tr>\n",
       "    <tr>\n",
       "      <th>1</th>\n",
       "      <td>energy</td>\n",
       "      <td>0.039132</td>\n",
       "    </tr>\n",
       "    <tr>\n",
       "      <th>2</th>\n",
       "      <td>loudness</td>\n",
       "      <td>0.036893</td>\n",
       "    </tr>\n",
       "    <tr>\n",
       "      <th>22</th>\n",
       "      <td>mode_major</td>\n",
       "      <td>0.008884</td>\n",
       "    </tr>\n",
       "    <tr>\n",
       "      <th>16</th>\n",
       "      <td>key_Db</td>\n",
       "      <td>0.006852</td>\n",
       "    </tr>\n",
       "    <tr>\n",
       "      <th>12</th>\n",
       "      <td>key_B</td>\n",
       "      <td>0.002873</td>\n",
       "    </tr>\n",
       "    <tr>\n",
       "      <th>10</th>\n",
       "      <td>key_A</td>\n",
       "      <td>0.002206</td>\n",
       "    </tr>\n",
       "    <tr>\n",
       "      <th>13</th>\n",
       "      <td>key_Bb</td>\n",
       "      <td>0.002196</td>\n",
       "    </tr>\n",
       "    <tr>\n",
       "      <th>14</th>\n",
       "      <td>key_C</td>\n",
       "      <td>0.001971</td>\n",
       "    </tr>\n",
       "    <tr>\n",
       "      <th>20</th>\n",
       "      <td>key_G</td>\n",
       "      <td>0.001899</td>\n",
       "    </tr>\n",
       "    <tr>\n",
       "      <th>19</th>\n",
       "      <td>key_F</td>\n",
       "      <td>0.001792</td>\n",
       "    </tr>\n",
       "    <tr>\n",
       "      <th>11</th>\n",
       "      <td>key_Ab</td>\n",
       "      <td>0.001748</td>\n",
       "    </tr>\n",
       "    <tr>\n",
       "      <th>21</th>\n",
       "      <td>key_Gb</td>\n",
       "      <td>0.001565</td>\n",
       "    </tr>\n",
       "    <tr>\n",
       "      <th>15</th>\n",
       "      <td>key_D</td>\n",
       "      <td>0.001462</td>\n",
       "    </tr>\n",
       "    <tr>\n",
       "      <th>17</th>\n",
       "      <td>key_E</td>\n",
       "      <td>0.001403</td>\n",
       "    </tr>\n",
       "    <tr>\n",
       "      <th>18</th>\n",
       "      <td>key_Eb</td>\n",
       "      <td>0.000372</td>\n",
       "    </tr>\n",
       "  </tbody>\n",
       "</table>\n",
       "</div>"
      ],
      "text/plain": [
       "            features  gini_importance\n",
       "4        speechiness         0.448757\n",
       "0       danceability         0.156743\n",
       "8              tempo         0.053975\n",
       "9        duration_ms         0.052017\n",
       "5   instrumentalness         0.047733\n",
       "7            valence         0.045136\n",
       "6           liveness         0.042711\n",
       "3       acousticness         0.041679\n",
       "1             energy         0.039132\n",
       "2           loudness         0.036893\n",
       "22        mode_major         0.008884\n",
       "16            key_Db         0.006852\n",
       "12             key_B         0.002873\n",
       "10             key_A         0.002206\n",
       "13            key_Bb         0.002196\n",
       "14             key_C         0.001971\n",
       "20             key_G         0.001899\n",
       "19             key_F         0.001792\n",
       "11            key_Ab         0.001748\n",
       "21            key_Gb         0.001565\n",
       "15             key_D         0.001462\n",
       "17             key_E         0.001403\n",
       "18            key_Eb         0.000372"
      ]
     },
     "execution_count": 171,
     "metadata": {},
     "output_type": "execute_result"
    }
   ],
   "source": [
    "feature_importance.sort_values(by = 'gini_importance', ascending = False)"
   ]
  },
  {
   "cell_type": "code",
   "execution_count": 176,
   "metadata": {},
   "outputs": [
    {
     "data": {
      "text/plain": [
       "<sklearn.inspection._partial_dependence.PartialDependenceDisplay at 0x11118cd68>"
      ]
     },
     "execution_count": 176,
     "metadata": {},
     "output_type": "execute_result"
    },
    {
     "data": {
      "image/png": "[encoded data removed]",
      "text/plain": [
       "<Figure size 432x288 with 3 Axes>"
      ]
     },
     "metadata": {
      "needs_background": "light"
     },
     "output_type": "display_data"
    }
   ],
   "source": [
    "plot_partial_dependence(best_random, model_df, ['speechiness', 'danceability']) "
   ]
  },
  {
   "cell_type": "code",
   "execution_count": 190,
   "metadata": {},
   "outputs": [
    {
     "data": {
      "image/png": "[encoded data removed]",
      "text/plain": [
       "<Figure size 432x288 with 4 Axes>"
      ]
     },
     "metadata": {
      "needs_background": "light"
     },
     "output_type": "display_data"
    }
   ],
   "source": [
    "ale_plot(best_random, model_df, ['speechiness','danceability'], monte_carlo=True)"
   ]
  },
  {
   "cell_type": "code",
   "execution_count": 184,
   "metadata": {},
   "outputs": [],
   "source": [
    "so_ale"
   ]
  },
  {
   "cell_type": "code",
   "execution_count": 180,
   "metadata": {},
   "outputs": [
    {
     "data": {
      "image/png": "[encoded data removed]",
      "text/plain": [
       "<Figure size 432x288 with 2 Axes>"
      ]
     },
     "metadata": {
      "needs_background": "light"
     },
     "output_type": "display_data"
    }
   ],
   "source": [
    "ale_plot(best_random, model_df, ['danceability'])"
   ]
  },
  {
   "cell_type": "code",
   "execution_count": 120,
   "metadata": {},
   "outputs": [],
   "source": [
    "train_rf_predictions_rand = best_random.predict(train_features)\n",
    "train_rf_probs_rand = best_random.predict_proba(train_features)[:, 1]\n",
    "\n",
    "rf_predictions_rand = best_random.predict(test_features)\n",
    "rf_probs_rand = best_random.predict_proba(test_features)[:, 1]"
   ]
  },
  {
   "cell_type": "code",
   "execution_count": 121,
   "metadata": {},
   "outputs": [
    {
     "name": "stdout",
     "output_type": "stream",
     "text": [
      "Recall Baseline: 1.0 Test: 0.88 Train: 0.88\n",
      "Precision Baseline: 0.48 Test: 0.91 Train: 0.87\n",
      "Roc Baseline: 0.5 Test: 0.98 Train: 0.97\n"
     ]
    },
    {
     "data": {
      "image/png": "[encoded data removed]",
      "text/plain": [
       "<Figure size 576x432 with 1 Axes>"
      ]
     },
     "metadata": {
      "needs_background": "light"
     },
     "output_type": "display_data"
    }
   ],
   "source": [
    "evaluate_model(rf_predictions_rand, rf_probs_rand, train_rf_predictions_rand, train_rf_probs_rand)"
   ]
  },
  {
   "cell_type": "code",
   "execution_count": 122,
   "metadata": {},
   "outputs": [],
   "source": [
    "best_params = rf_random.best_params_"
   ]
  },
  {
   "cell_type": "code",
   "execution_count": 135,
   "metadata": {},
   "outputs": [
    {
     "data": {
      "text/plain": [
       "{'n_estimators': 200,\n",
       " 'min_samples_split': 5,\n",
       " 'min_samples_leaf': 4,\n",
       " 'max_features': 'auto',\n",
       " 'max_depth': 10,\n",
       " 'bootstrap': True}"
      ]
     },
     "execution_count": 135,
     "metadata": {},
     "output_type": "execute_result"
    }
   ],
   "source": [
    "best_params"
   ]
  },
  {
   "cell_type": "code",
   "execution_count": 124,
   "metadata": {},
   "outputs": [],
   "source": [
    "best_rf = RandomForestClassifier(**best_params)"
   ]
  },
  {
   "cell_type": "code",
   "execution_count": 125,
   "metadata": {},
   "outputs": [
    {
     "data": {
      "text/plain": [
       "RandomForestClassifier(bootstrap=True, ccp_alpha=0.0, class_weight=None,\n",
       "                       criterion='gini', max_depth=10, max_features='auto',\n",
       "                       max_leaf_nodes=None, max_samples=None,\n",
       "                       min_impurity_decrease=0.0, min_impurity_split=None,\n",
       "                       min_samples_leaf=4, min_samples_split=5,\n",
       "                       min_weight_fraction_leaf=0.0, n_estimators=200,\n",
       "                       n_jobs=None, oob_score=False, random_state=None,\n",
       "                       verbose=0, warm_start=False)"
      ]
     },
     "execution_count": 125,
     "metadata": {},
     "output_type": "execute_result"
    }
   ],
   "source": [
    "best_rf.fit(train_features, train_labels)"
   ]
  },
  {
   "cell_type": "code",
   "execution_count": 126,
   "metadata": {},
   "outputs": [],
   "source": [
    "train_rf_predictions_best = best_rf.predict(train_features)\n",
    "train_rf_probs_best = best_rf.predict_proba(train_features)[:, 1]\n",
    "\n",
    "rf_predictions_best = best_rf.predict(test_features)\n",
    "rf_probs_best = best_rf.predict_proba(test_features)[:, 1]"
   ]
  },
  {
   "cell_type": "code",
   "execution_count": 127,
   "metadata": {},
   "outputs": [
    {
     "name": "stdout",
     "output_type": "stream",
     "text": [
      "Recall Baseline: 1.0 Test: 0.78 Train: 0.88\n",
      "Precision Baseline: 0.48 Test: 0.85 Train: 0.89\n",
      "Roc Baseline: 0.5 Test: 0.91 Train: 0.98\n"
     ]
    },
    {
     "data": {
      "image/png": "[encoded data removed]",
      "text/plain": [
       "<Figure size 576x432 with 1 Axes>"
      ]
     },
     "metadata": {
      "needs_background": "light"
     },
     "output_type": "display_data"
    }
   ],
   "source": [
    "evaluate_model(rf_predictions_best, rf_probs_best, train_rf_predictions_best, train_rf_probs_best)"
   ]
  },
  {
   "cell_type": "code",
   "execution_count": null,
   "metadata": {},
   "outputs": [],
   "source": []
  }
 ],
 "metadata": {
  "kernelspec": {
   "display_name": "Python 3",
   "language": "python",
   "name": "python3"
  },
  "language_info": {
   "codemirror_mode": {
    "name": "ipython",
    "version": 3
   },
   "file_extension": ".py",
   "mimetype": "text/x-python",
   "name": "python",
   "nbconvert_exporter": "python",
   "pygments_lexer": "ipython3",
   "version": "3.7.3"
  },
  "toc": {
   "base_numbering": 1,
   "nav_menu": {},
   "number_sections": true,
   "sideBar": true,
   "skip_h1_title": false,
   "title_cell": "Table of Contents",
   "title_sidebar": "Contents",
   "toc_cell": false,
   "toc_position": {},
   "toc_section_display": true,
   "toc_window_display": false
  },
  "varInspector": {
   "cols": {
    "lenName": 16,
    "lenType": 16,
    "lenVar": 40
   },
   "kernels_config": {
    "python": {
     "delete_cmd_postfix": "",
     "delete_cmd_prefix": "del ",
     "library": "var_list.py",
     "varRefreshCmd": "print(var_dic_list())"
    },
    "r": {
     "delete_cmd_postfix": ") ",
     "delete_cmd_prefix": "rm(",
     "library": "var_list.r",
     "varRefreshCmd": "cat(var_dic_list()) "
    }
   },
   "types_to_exclude": [
    "module",
    "function",
    "builtin_function_or_method",
    "instance",
    "_Feature"
   ],
   "window_display": false
  }
 },
 "nbformat": 4,
 "nbformat_minor": 4
}
